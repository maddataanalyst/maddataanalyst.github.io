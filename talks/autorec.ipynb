{
 "cells": [
  {
   "cell_type": "markdown",
   "metadata": {},
   "source": [
    "# Autorec as recommendation engine\n",
    "\n",
    "Companion notebook for a conference speech about using autoencoders as recommendation engines. It presents an idea of using Autoencoder neural network as a recommendation engine for [famous MovieLens dataset](https://www.kaggle.com/grouplens/movielens-20m-dataset)."
   ]
  },
  {
   "cell_type": "markdown",
   "metadata": {},
   "source": [
    "# Technical prep"
   ]
  },
  {
   "cell_type": "code",
   "execution_count": 1,
   "metadata": {
    "ExecuteTime": {
     "end_time": "2019-06-15T07:24:23.459996Z",
     "start_time": "2019-06-15T07:24:23.456330Z"
    },
    "scrolled": true
   },
   "outputs": [],
   "source": [
    "import os\n",
    "import sys\n"
   ]
  },
  {
   "cell_type": "code",
   "execution_count": 3,
   "metadata": {
    "ExecuteTime": {
     "end_time": "2019-06-15T07:24:43.211803Z",
     "start_time": "2019-06-15T07:24:33.878569Z"
    },
    "scrolled": true
   },
   "outputs": [
    {
     "name": "stderr",
     "output_type": "stream",
     "text": [
      "C:\\Users\\fwojcik\\AppData\\Local\\Continuum\\anaconda3\\lib\\site-packages\\h5py\\__init__.py:36: FutureWarning: Conversion of the second argument of issubdtype from `float` to `np.floating` is deprecated. In future, it will be treated as `np.float64 == np.dtype(float).type`.\n",
      "  from ._conv import register_converters as _register_converters\n"
     ]
    }
   ],
   "source": [
    "import tensorflow as tf\n",
    "import pandas as pd\n",
    "import numpy as np\n",
    "import matplotlib.pyplot as plt\n",
    "from plotly.offline import download_plotlyjs, init_notebook_mode, plot, iplot\n",
    "from plotly.graph_objs import Bar, Scatter, Figure, Layout\n",
    "from tqdm import tqdm_notebook as tqdm\n",
    "from sklearn.utils import shuffle\n",
    "from sklearn.model_selection import train_test_split\n",
    "from sklearn.metrics import mean_squared_error\n",
    "from scipy.sparse import lil_matrix, csr_matrix, save_npz, load_npz"
   ]
  },
  {
   "cell_type": "code",
   "execution_count": 4,
   "metadata": {
    "ExecuteTime": {
     "end_time": "2019-06-15T07:24:43.263003Z",
     "start_time": "2019-06-15T07:24:43.233418Z"
    }
   },
   "outputs": [],
   "source": [
    "%matplotlib inline  \n",
    "%matplotlib notebook"
   ]
  },
  {
   "cell_type": "code",
   "execution_count": 5,
   "metadata": {
    "ExecuteTime": {
     "end_time": "2019-06-15T07:24:43.281241Z",
     "start_time": "2019-06-15T07:24:43.276571Z"
    }
   },
   "outputs": [
    {
     "data": {
      "text/html": [
       "<script type=\"text/javascript\">window.PlotlyConfig = {MathJaxConfig: 'local'};</script><script type=\"text/javascript\">if (window.MathJax) {MathJax.Hub.Config({SVG: {font: \"STIX-Web\"}});}</script><script>requirejs.config({paths: { 'plotly': ['https://cdn.plot.ly/plotly-latest.min']},});if(!window._Plotly) {require(['plotly'],function(plotly) {window._Plotly=plotly;});}</script>"
      ],
      "text/vnd.plotly.v1+html": [
       "<script type=\"text/javascript\">window.PlotlyConfig = {MathJaxConfig: 'local'};</script><script type=\"text/javascript\">if (window.MathJax) {MathJax.Hub.Config({SVG: {font: \"STIX-Web\"}});}</script><script>requirejs.config({paths: { 'plotly': ['https://cdn.plot.ly/plotly-latest.min']},});if(!window._Plotly) {require(['plotly'],function(plotly) {window._Plotly=plotly;});}</script>"
      ]
     },
     "metadata": {},
     "output_type": "display_data"
    }
   ],
   "source": [
    "init_notebook_mode(connected=True)"
   ]
  },
  {
   "cell_type": "code",
   "execution_count": 6,
   "metadata": {
    "ExecuteTime": {
     "end_time": "2019-06-15T07:24:43.355143Z",
     "start_time": "2019-06-15T07:24:43.306436Z"
    }
   },
   "outputs": [
    {
     "data": {
      "application/vnd.jupyter.widget-view+json": {
       "model_id": "eaf2038ed870464f9f7f51dbc454b539",
       "version_major": 2,
       "version_minor": 0
      },
      "text/html": [
       "<p>Failed to display Jupyter Widget of type <code>HBox</code>.</p>\n",
       "<p>\n",
       "  If you're reading this message in the Jupyter Notebook or JupyterLab Notebook, it may mean\n",
       "  that the widgets JavaScript is still loading. If this message persists, it\n",
       "  likely means that the widgets JavaScript library is either not installed or\n",
       "  not enabled. See the <a href=\"https://ipywidgets.readthedocs.io/en/stable/user_install.html\">Jupyter\n",
       "  Widgets Documentation</a> for setup instructions.\n",
       "</p>\n",
       "<p>\n",
       "  If you're reading this message in another frontend (for example, a static\n",
       "  rendering on GitHub or <a href=\"https://nbviewer.jupyter.org/\">NBViewer</a>),\n",
       "  it may mean that your frontend doesn't currently support widgets.\n",
       "</p>\n"
      ],
      "text/plain": [
       "HBox(children=(IntProgress(value=1, bar_style='info', max=1), HTML(value='')))"
      ]
     },
     "metadata": {},
     "output_type": "display_data"
    },
    {
     "name": "stdout",
     "output_type": "stream",
     "text": [
      "\n"
     ]
    }
   ],
   "source": [
    "tqdm().pandas()"
   ]
  },
  {
   "cell_type": "code",
   "execution_count": 7,
   "metadata": {
    "ExecuteTime": {
     "end_time": "2019-06-15T07:24:43.379043Z",
     "start_time": "2019-06-15T07:24:43.373281Z"
    }
   },
   "outputs": [],
   "source": [
    "import warnings\n",
    "warnings.filterwarnings('ignore')"
   ]
  },
  {
   "cell_type": "code",
   "execution_count": 8,
   "metadata": {
    "ExecuteTime": {
     "end_time": "2019-06-15T07:24:43.915136Z",
     "start_time": "2019-06-15T07:24:43.412074Z"
    }
   },
   "outputs": [],
   "source": [
    "from bokeh.io import output_file, output_notebook\n",
    "from bokeh.plotting import figure, show\n",
    "from bokeh.models import HoverTool"
   ]
  },
  {
   "cell_type": "code",
   "execution_count": 9,
   "metadata": {
    "ExecuteTime": {
     "end_time": "2019-06-15T07:24:43.960992Z",
     "start_time": "2019-06-15T07:24:43.951054Z"
    }
   },
   "outputs": [
    {
     "data": {
      "text/html": [
       "\n",
       "    <div class=\"bk-root\">\n",
       "        <a href=\"https://bokeh.pydata.org\" target=\"_blank\" class=\"bk-logo bk-logo-small bk-logo-notebook\"></a>\n",
       "        <span id=\"aa38c02c-5c75-4551-95d7-2af91ac8e67d\">Loading BokehJS ...</span>\n",
       "    </div>"
      ]
     },
     "metadata": {},
     "output_type": "display_data"
    },
    {
     "data": {
      "application/javascript": [
       "\n",
       "(function(root) {\n",
       "  function now() {\n",
       "    return new Date();\n",
       "  }\n",
       "\n",
       "  var force = true;\n",
       "\n",
       "  if (typeof (root._bokeh_onload_callbacks) === \"undefined\" || force === true) {\n",
       "    root._bokeh_onload_callbacks = [];\n",
       "    root._bokeh_is_loading = undefined;\n",
       "  }\n",
       "\n",
       "  var JS_MIME_TYPE = 'application/javascript';\n",
       "  var HTML_MIME_TYPE = 'text/html';\n",
       "  var EXEC_MIME_TYPE = 'application/vnd.bokehjs_exec.v0+json';\n",
       "  var CLASS_NAME = 'output_bokeh rendered_html';\n",
       "\n",
       "  /**\n",
       "   * Render data to the DOM node\n",
       "   */\n",
       "  function render(props, node) {\n",
       "    var script = document.createElement(\"script\");\n",
       "    node.appendChild(script);\n",
       "  }\n",
       "\n",
       "  /**\n",
       "   * Handle when an output is cleared or removed\n",
       "   */\n",
       "  function handleClearOutput(event, handle) {\n",
       "    var cell = handle.cell;\n",
       "\n",
       "    var id = cell.output_area._bokeh_element_id;\n",
       "    var server_id = cell.output_area._bokeh_server_id;\n",
       "    // Clean up Bokeh references\n",
       "    if (id !== undefined) {\n",
       "      Bokeh.index[id].model.document.clear();\n",
       "      delete Bokeh.index[id];\n",
       "    }\n",
       "\n",
       "    if (server_id !== undefined) {\n",
       "      // Clean up Bokeh references\n",
       "      var cmd = \"from bokeh.io.state import curstate; print(curstate().uuid_to_server['\" + server_id + \"'].get_sessions()[0].document.roots[0]._id)\";\n",
       "      cell.notebook.kernel.execute(cmd, {\n",
       "        iopub: {\n",
       "          output: function(msg) {\n",
       "            var element_id = msg.content.text.trim();\n",
       "            Bokeh.index[element_id].model.document.clear();\n",
       "            delete Bokeh.index[element_id];\n",
       "          }\n",
       "        }\n",
       "      });\n",
       "      // Destroy server and session\n",
       "      var cmd = \"import bokeh.io.notebook as ion; ion.destroy_server('\" + server_id + \"')\";\n",
       "      cell.notebook.kernel.execute(cmd);\n",
       "    }\n",
       "  }\n",
       "\n",
       "  /**\n",
       "   * Handle when a new output is added\n",
       "   */\n",
       "  function handleAddOutput(event, handle) {\n",
       "    var output_area = handle.output_area;\n",
       "    var output = handle.output;\n",
       "\n",
       "    // limit handleAddOutput to display_data with EXEC_MIME_TYPE content only\n",
       "    if ((output.output_type != \"display_data\") || (!output.data.hasOwnProperty(EXEC_MIME_TYPE))) {\n",
       "      return\n",
       "    }\n",
       "\n",
       "    var toinsert = output_area.element.find(\".\" + CLASS_NAME.split(' ')[0]);\n",
       "\n",
       "    if (output.metadata[EXEC_MIME_TYPE][\"id\"] !== undefined) {\n",
       "      toinsert[0].firstChild.textContent = output.data[JS_MIME_TYPE];\n",
       "      // store reference to embed id on output_area\n",
       "      output_area._bokeh_element_id = output.metadata[EXEC_MIME_TYPE][\"id\"];\n",
       "    }\n",
       "    if (output.metadata[EXEC_MIME_TYPE][\"server_id\"] !== undefined) {\n",
       "      var bk_div = document.createElement(\"div\");\n",
       "      bk_div.innerHTML = output.data[HTML_MIME_TYPE];\n",
       "      var script_attrs = bk_div.children[0].attributes;\n",
       "      for (var i = 0; i < script_attrs.length; i++) {\n",
       "        toinsert[0].firstChild.setAttribute(script_attrs[i].name, script_attrs[i].value);\n",
       "      }\n",
       "      // store reference to server id on output_area\n",
       "      output_area._bokeh_server_id = output.metadata[EXEC_MIME_TYPE][\"server_id\"];\n",
       "    }\n",
       "  }\n",
       "\n",
       "  function register_renderer(events, OutputArea) {\n",
       "\n",
       "    function append_mime(data, metadata, element) {\n",
       "      // create a DOM node to render to\n",
       "      var toinsert = this.create_output_subarea(\n",
       "        metadata,\n",
       "        CLASS_NAME,\n",
       "        EXEC_MIME_TYPE\n",
       "      );\n",
       "      this.keyboard_manager.register_events(toinsert);\n",
       "      // Render to node\n",
       "      var props = {data: data, metadata: metadata[EXEC_MIME_TYPE]};\n",
       "      render(props, toinsert[0]);\n",
       "      element.append(toinsert);\n",
       "      return toinsert\n",
       "    }\n",
       "\n",
       "    /* Handle when an output is cleared or removed */\n",
       "    events.on('clear_output.CodeCell', handleClearOutput);\n",
       "    events.on('delete.Cell', handleClearOutput);\n",
       "\n",
       "    /* Handle when a new output is added */\n",
       "    events.on('output_added.OutputArea', handleAddOutput);\n",
       "\n",
       "    /**\n",
       "     * Register the mime type and append_mime function with output_area\n",
       "     */\n",
       "    OutputArea.prototype.register_mime_type(EXEC_MIME_TYPE, append_mime, {\n",
       "      /* Is output safe? */\n",
       "      safe: true,\n",
       "      /* Index of renderer in `output_area.display_order` */\n",
       "      index: 0\n",
       "    });\n",
       "  }\n",
       "\n",
       "  // register the mime type if in Jupyter Notebook environment and previously unregistered\n",
       "  if (root.Jupyter !== undefined) {\n",
       "    var events = require('base/js/events');\n",
       "    var OutputArea = require('notebook/js/outputarea').OutputArea;\n",
       "\n",
       "    if (OutputArea.prototype.mime_types().indexOf(EXEC_MIME_TYPE) == -1) {\n",
       "      register_renderer(events, OutputArea);\n",
       "    }\n",
       "  }\n",
       "\n",
       "  \n",
       "  if (typeof (root._bokeh_timeout) === \"undefined\" || force === true) {\n",
       "    root._bokeh_timeout = Date.now() + 5000;\n",
       "    root._bokeh_failed_load = false;\n",
       "  }\n",
       "\n",
       "  var NB_LOAD_WARNING = {'data': {'text/html':\n",
       "     \"<div style='background-color: #fdd'>\\n\"+\n",
       "     \"<p>\\n\"+\n",
       "     \"BokehJS does not appear to have successfully loaded. If loading BokehJS from CDN, this \\n\"+\n",
       "     \"may be due to a slow or bad network connection. Possible fixes:\\n\"+\n",
       "     \"</p>\\n\"+\n",
       "     \"<ul>\\n\"+\n",
       "     \"<li>re-rerun `output_notebook()` to attempt to load from CDN again, or</li>\\n\"+\n",
       "     \"<li>use INLINE resources instead, as so:</li>\\n\"+\n",
       "     \"</ul>\\n\"+\n",
       "     \"<code>\\n\"+\n",
       "     \"from bokeh.resources import INLINE\\n\"+\n",
       "     \"output_notebook(resources=INLINE)\\n\"+\n",
       "     \"</code>\\n\"+\n",
       "     \"</div>\"}};\n",
       "\n",
       "  function display_loaded() {\n",
       "    var el = document.getElementById(\"aa38c02c-5c75-4551-95d7-2af91ac8e67d\");\n",
       "    if (el != null) {\n",
       "      el.textContent = \"BokehJS is loading...\";\n",
       "    }\n",
       "    if (root.Bokeh !== undefined) {\n",
       "      if (el != null) {\n",
       "        el.textContent = \"BokehJS \" + root.Bokeh.version + \" successfully loaded.\";\n",
       "      }\n",
       "    } else if (Date.now() < root._bokeh_timeout) {\n",
       "      setTimeout(display_loaded, 100)\n",
       "    }\n",
       "  }\n",
       "\n",
       "\n",
       "  function run_callbacks() {\n",
       "    try {\n",
       "      root._bokeh_onload_callbacks.forEach(function(callback) { callback() });\n",
       "    }\n",
       "    finally {\n",
       "      delete root._bokeh_onload_callbacks\n",
       "    }\n",
       "    console.info(\"Bokeh: all callbacks have finished\");\n",
       "  }\n",
       "\n",
       "  function load_libs(js_urls, callback) {\n",
       "    root._bokeh_onload_callbacks.push(callback);\n",
       "    if (root._bokeh_is_loading > 0) {\n",
       "      console.log(\"Bokeh: BokehJS is being loaded, scheduling callback at\", now());\n",
       "      return null;\n",
       "    }\n",
       "    if (js_urls == null || js_urls.length === 0) {\n",
       "      run_callbacks();\n",
       "      return null;\n",
       "    }\n",
       "    console.log(\"Bokeh: BokehJS not loaded, scheduling load and callback at\", now());\n",
       "    root._bokeh_is_loading = js_urls.length;\n",
       "    for (var i = 0; i < js_urls.length; i++) {\n",
       "      var url = js_urls[i];\n",
       "      var s = document.createElement('script');\n",
       "      s.src = url;\n",
       "      s.async = false;\n",
       "      s.onreadystatechange = s.onload = function() {\n",
       "        root._bokeh_is_loading--;\n",
       "        if (root._bokeh_is_loading === 0) {\n",
       "          console.log(\"Bokeh: all BokehJS libraries loaded\");\n",
       "          run_callbacks()\n",
       "        }\n",
       "      };\n",
       "      s.onerror = function() {\n",
       "        console.warn(\"failed to load library \" + url);\n",
       "      };\n",
       "      console.log(\"Bokeh: injecting script tag for BokehJS library: \", url);\n",
       "      document.getElementsByTagName(\"head\")[0].appendChild(s);\n",
       "    }\n",
       "  };var element = document.getElementById(\"aa38c02c-5c75-4551-95d7-2af91ac8e67d\");\n",
       "  if (element == null) {\n",
       "    console.log(\"Bokeh: ERROR: autoload.js configured with elementid 'aa38c02c-5c75-4551-95d7-2af91ac8e67d' but no matching script tag was found. \")\n",
       "    return false;\n",
       "  }\n",
       "\n",
       "  var js_urls = [\"https://cdn.pydata.org/bokeh/release/bokeh-0.12.13.min.js\", \"https://cdn.pydata.org/bokeh/release/bokeh-widgets-0.12.13.min.js\", \"https://cdn.pydata.org/bokeh/release/bokeh-tables-0.12.13.min.js\", \"https://cdn.pydata.org/bokeh/release/bokeh-gl-0.12.13.min.js\"];\n",
       "\n",
       "  var inline_js = [\n",
       "    function(Bokeh) {\n",
       "      Bokeh.set_log_level(\"info\");\n",
       "    },\n",
       "    \n",
       "    function(Bokeh) {\n",
       "      \n",
       "    },\n",
       "    function(Bokeh) {\n",
       "      console.log(\"Bokeh: injecting CSS: https://cdn.pydata.org/bokeh/release/bokeh-0.12.13.min.css\");\n",
       "      Bokeh.embed.inject_css(\"https://cdn.pydata.org/bokeh/release/bokeh-0.12.13.min.css\");\n",
       "      console.log(\"Bokeh: injecting CSS: https://cdn.pydata.org/bokeh/release/bokeh-widgets-0.12.13.min.css\");\n",
       "      Bokeh.embed.inject_css(\"https://cdn.pydata.org/bokeh/release/bokeh-widgets-0.12.13.min.css\");\n",
       "      console.log(\"Bokeh: injecting CSS: https://cdn.pydata.org/bokeh/release/bokeh-tables-0.12.13.min.css\");\n",
       "      Bokeh.embed.inject_css(\"https://cdn.pydata.org/bokeh/release/bokeh-tables-0.12.13.min.css\");\n",
       "    }\n",
       "  ];\n",
       "\n",
       "  function run_inline_js() {\n",
       "    \n",
       "    if ((root.Bokeh !== undefined) || (force === true)) {\n",
       "      for (var i = 0; i < inline_js.length; i++) {\n",
       "        inline_js[i].call(root, root.Bokeh);\n",
       "      }if (force === true) {\n",
       "        display_loaded();\n",
       "      }} else if (Date.now() < root._bokeh_timeout) {\n",
       "      setTimeout(run_inline_js, 100);\n",
       "    } else if (!root._bokeh_failed_load) {\n",
       "      console.log(\"Bokeh: BokehJS failed to load within specified timeout.\");\n",
       "      root._bokeh_failed_load = true;\n",
       "    } else if (force !== true) {\n",
       "      var cell = $(document.getElementById(\"aa38c02c-5c75-4551-95d7-2af91ac8e67d\")).parents('.cell').data().cell;\n",
       "      cell.output_area.append_execute_result(NB_LOAD_WARNING)\n",
       "    }\n",
       "\n",
       "  }\n",
       "\n",
       "  if (root._bokeh_is_loading === 0) {\n",
       "    console.log(\"Bokeh: BokehJS loaded, going straight to plotting\");\n",
       "    run_inline_js();\n",
       "  } else {\n",
       "    load_libs(js_urls, function() {\n",
       "      console.log(\"Bokeh: BokehJS plotting callback run at\", now());\n",
       "      run_inline_js();\n",
       "    });\n",
       "  }\n",
       "}(window));"
      ],
      "application/vnd.bokehjs_load.v0+json": "\n(function(root) {\n  function now() {\n    return new Date();\n  }\n\n  var force = true;\n\n  if (typeof (root._bokeh_onload_callbacks) === \"undefined\" || force === true) {\n    root._bokeh_onload_callbacks = [];\n    root._bokeh_is_loading = undefined;\n  }\n\n  \n\n  \n  if (typeof (root._bokeh_timeout) === \"undefined\" || force === true) {\n    root._bokeh_timeout = Date.now() + 5000;\n    root._bokeh_failed_load = false;\n  }\n\n  var NB_LOAD_WARNING = {'data': {'text/html':\n     \"<div style='background-color: #fdd'>\\n\"+\n     \"<p>\\n\"+\n     \"BokehJS does not appear to have successfully loaded. If loading BokehJS from CDN, this \\n\"+\n     \"may be due to a slow or bad network connection. Possible fixes:\\n\"+\n     \"</p>\\n\"+\n     \"<ul>\\n\"+\n     \"<li>re-rerun `output_notebook()` to attempt to load from CDN again, or</li>\\n\"+\n     \"<li>use INLINE resources instead, as so:</li>\\n\"+\n     \"</ul>\\n\"+\n     \"<code>\\n\"+\n     \"from bokeh.resources import INLINE\\n\"+\n     \"output_notebook(resources=INLINE)\\n\"+\n     \"</code>\\n\"+\n     \"</div>\"}};\n\n  function display_loaded() {\n    var el = document.getElementById(\"aa38c02c-5c75-4551-95d7-2af91ac8e67d\");\n    if (el != null) {\n      el.textContent = \"BokehJS is loading...\";\n    }\n    if (root.Bokeh !== undefined) {\n      if (el != null) {\n        el.textContent = \"BokehJS \" + root.Bokeh.version + \" successfully loaded.\";\n      }\n    } else if (Date.now() < root._bokeh_timeout) {\n      setTimeout(display_loaded, 100)\n    }\n  }\n\n\n  function run_callbacks() {\n    try {\n      root._bokeh_onload_callbacks.forEach(function(callback) { callback() });\n    }\n    finally {\n      delete root._bokeh_onload_callbacks\n    }\n    console.info(\"Bokeh: all callbacks have finished\");\n  }\n\n  function load_libs(js_urls, callback) {\n    root._bokeh_onload_callbacks.push(callback);\n    if (root._bokeh_is_loading > 0) {\n      console.log(\"Bokeh: BokehJS is being loaded, scheduling callback at\", now());\n      return null;\n    }\n    if (js_urls == null || js_urls.length === 0) {\n      run_callbacks();\n      return null;\n    }\n    console.log(\"Bokeh: BokehJS not loaded, scheduling load and callback at\", now());\n    root._bokeh_is_loading = js_urls.length;\n    for (var i = 0; i < js_urls.length; i++) {\n      var url = js_urls[i];\n      var s = document.createElement('script');\n      s.src = url;\n      s.async = false;\n      s.onreadystatechange = s.onload = function() {\n        root._bokeh_is_loading--;\n        if (root._bokeh_is_loading === 0) {\n          console.log(\"Bokeh: all BokehJS libraries loaded\");\n          run_callbacks()\n        }\n      };\n      s.onerror = function() {\n        console.warn(\"failed to load library \" + url);\n      };\n      console.log(\"Bokeh: injecting script tag for BokehJS library: \", url);\n      document.getElementsByTagName(\"head\")[0].appendChild(s);\n    }\n  };var element = document.getElementById(\"aa38c02c-5c75-4551-95d7-2af91ac8e67d\");\n  if (element == null) {\n    console.log(\"Bokeh: ERROR: autoload.js configured with elementid 'aa38c02c-5c75-4551-95d7-2af91ac8e67d' but no matching script tag was found. \")\n    return false;\n  }\n\n  var js_urls = [\"https://cdn.pydata.org/bokeh/release/bokeh-0.12.13.min.js\", \"https://cdn.pydata.org/bokeh/release/bokeh-widgets-0.12.13.min.js\", \"https://cdn.pydata.org/bokeh/release/bokeh-tables-0.12.13.min.js\", \"https://cdn.pydata.org/bokeh/release/bokeh-gl-0.12.13.min.js\"];\n\n  var inline_js = [\n    function(Bokeh) {\n      Bokeh.set_log_level(\"info\");\n    },\n    \n    function(Bokeh) {\n      \n    },\n    function(Bokeh) {\n      console.log(\"Bokeh: injecting CSS: https://cdn.pydata.org/bokeh/release/bokeh-0.12.13.min.css\");\n      Bokeh.embed.inject_css(\"https://cdn.pydata.org/bokeh/release/bokeh-0.12.13.min.css\");\n      console.log(\"Bokeh: injecting CSS: https://cdn.pydata.org/bokeh/release/bokeh-widgets-0.12.13.min.css\");\n      Bokeh.embed.inject_css(\"https://cdn.pydata.org/bokeh/release/bokeh-widgets-0.12.13.min.css\");\n      console.log(\"Bokeh: injecting CSS: https://cdn.pydata.org/bokeh/release/bokeh-tables-0.12.13.min.css\");\n      Bokeh.embed.inject_css(\"https://cdn.pydata.org/bokeh/release/bokeh-tables-0.12.13.min.css\");\n    }\n  ];\n\n  function run_inline_js() {\n    \n    if ((root.Bokeh !== undefined) || (force === true)) {\n      for (var i = 0; i < inline_js.length; i++) {\n        inline_js[i].call(root, root.Bokeh);\n      }if (force === true) {\n        display_loaded();\n      }} else if (Date.now() < root._bokeh_timeout) {\n      setTimeout(run_inline_js, 100);\n    } else if (!root._bokeh_failed_load) {\n      console.log(\"Bokeh: BokehJS failed to load within specified timeout.\");\n      root._bokeh_failed_load = true;\n    } else if (force !== true) {\n      var cell = $(document.getElementById(\"aa38c02c-5c75-4551-95d7-2af91ac8e67d\")).parents('.cell').data().cell;\n      cell.output_area.append_execute_result(NB_LOAD_WARNING)\n    }\n\n  }\n\n  if (root._bokeh_is_loading === 0) {\n    console.log(\"Bokeh: BokehJS loaded, going straight to plotting\");\n    run_inline_js();\n  } else {\n    load_libs(js_urls, function() {\n      console.log(\"Bokeh: BokehJS plotting callback run at\", now());\n      run_inline_js();\n    });\n  }\n}(window));"
     },
     "metadata": {},
     "output_type": "display_data"
    }
   ],
   "source": [
    "output_notebook()"
   ]
  },
  {
   "cell_type": "code",
   "execution_count": 10,
   "metadata": {
    "ExecuteTime": {
     "end_time": "2019-06-15T07:24:44.001350Z",
     "start_time": "2019-06-15T07:24:43.986017Z"
    }
   },
   "outputs": [],
   "source": [
    "def plot_loss(history, loss_to_plot):\n",
    "    p = figure(plot_width = 600, plot_height = 400) \n",
    "\n",
    "    # add a line renderer \n",
    "    p.line(range(len(history.history[loss_to_plot])), history.history[loss_to_plot],  \n",
    "            line_width = 2, color = \"green\") \n",
    "\n",
    "    p.add_tools(HoverTool(tooltips=[('err', '@y')]))\n",
    "\n",
    "    # show the results \n",
    "    show(p) "
   ]
  },
  {
   "cell_type": "markdown",
   "metadata": {},
   "source": [
    "# Data prep"
   ]
  },
  {
   "cell_type": "markdown",
   "metadata": {},
   "source": [
    "Building a recommendation engine from a **movielens** dataset can be a challenging task. There's a lot of prepwork that needs to be done. Due to the dataset size, only a subset of user ratings will be used - to shorten a computation time.\n",
    "\n",
    "The following steps will be executesd:\n",
    "\n",
    "* Load the data :) \n",
    "* Select only top 60'000 users - groupbed by ratings count\n",
    "* Divide users into training - testing - validation groups (randomly)\n",
    "* Inside a validation group - hide some ratings to simulate real recommendation situation"
   ]
  },
  {
   "cell_type": "markdown",
   "metadata": {},
   "source": [
    "## Prep from scratch"
   ]
  },
  {
   "cell_type": "code",
   "execution_count": 13,
   "metadata": {
    "ExecuteTime": {
     "end_time": "2019-06-15T07:25:46.786158Z",
     "start_time": "2019-06-15T07:25:38.551157Z"
    }
   },
   "outputs": [
    {
     "data": {
      "text/plain": [
       "(20000263, 4)"
      ]
     },
     "execution_count": 13,
     "metadata": {},
     "output_type": "execute_result"
    }
   ],
   "source": [
    "df = pd.read_csv(\"./ratings.csv\", sep=\",\", header=0)\n",
    "# Reset user ids to start from 0 \n",
    "df.userId = df.userId - 1\n",
    "df.shape"
   ]
  },
  {
   "cell_type": "code",
   "execution_count": 14,
   "metadata": {
    "ExecuteTime": {
     "end_time": "2019-06-15T07:25:50.043258Z",
     "start_time": "2019-06-15T07:25:49.700776Z"
    }
   },
   "outputs": [],
   "source": [
    "df.drop('timestamp', axis=1, inplace=True)"
   ]
  },
  {
   "cell_type": "code",
   "execution_count": 15,
   "metadata": {
    "ExecuteTime": {
     "end_time": "2019-06-15T07:25:50.413980Z",
     "start_time": "2019-06-15T07:25:50.406434Z"
    }
   },
   "outputs": [
    {
     "data": {
      "text/plain": [
       "Index(['userId', 'movieId', 'rating'], dtype='object')"
      ]
     },
     "execution_count": 15,
     "metadata": {},
     "output_type": "execute_result"
    }
   ],
   "source": [
    "df.columns"
   ]
  },
  {
   "cell_type": "markdown",
   "metadata": {},
   "source": [
    "For the purpose of this excercise we will select only top 60k users"
   ]
  },
  {
   "cell_type": "code",
   "execution_count": 16,
   "metadata": {
    "ExecuteTime": {
     "end_time": "2019-06-15T07:25:56.656934Z",
     "start_time": "2019-06-15T07:25:55.862957Z"
    }
   },
   "outputs": [
    {
     "data": {
      "text/html": [
       "<div>\n",
       "<style scoped>\n",
       "    .dataframe tbody tr th:only-of-type {\n",
       "        vertical-align: middle;\n",
       "    }\n",
       "\n",
       "    .dataframe tbody tr th {\n",
       "        vertical-align: top;\n",
       "    }\n",
       "\n",
       "    .dataframe thead th {\n",
       "        text-align: right;\n",
       "    }\n",
       "</style>\n",
       "<table border=\"1\" class=\"dataframe\">\n",
       "  <thead>\n",
       "    <tr style=\"text-align: right;\">\n",
       "      <th></th>\n",
       "      <th>userId</th>\n",
       "      <th>0</th>\n",
       "    </tr>\n",
       "  </thead>\n",
       "  <tbody>\n",
       "    <tr>\n",
       "      <th>0</th>\n",
       "      <td>118204</td>\n",
       "      <td>9254</td>\n",
       "    </tr>\n",
       "    <tr>\n",
       "      <th>1</th>\n",
       "      <td>8404</td>\n",
       "      <td>7515</td>\n",
       "    </tr>\n",
       "    <tr>\n",
       "      <th>2</th>\n",
       "      <td>82417</td>\n",
       "      <td>5646</td>\n",
       "    </tr>\n",
       "  </tbody>\n",
       "</table>\n",
       "</div>"
      ],
      "text/plain": [
       "   userId     0\n",
       "0  118204  9254\n",
       "1    8404  7515\n",
       "2   82417  5646"
      ]
     },
     "execution_count": 16,
     "metadata": {},
     "output_type": "execute_result"
    }
   ],
   "source": [
    "user_counts = df.groupby('userId').size().sort_values(ascending=False).reset_index()\n",
    "user_counts.head(3)"
   ]
  },
  {
   "cell_type": "code",
   "execution_count": 14,
   "metadata": {
    "ExecuteTime": {
     "end_time": "2019-06-11T06:03:16.962682Z",
     "start_time": "2019-06-11T06:03:16.959774Z"
    }
   },
   "outputs": [],
   "source": [
    "top_users = user_counts.userId.head(60000)"
   ]
  },
  {
   "cell_type": "code",
   "execution_count": 15,
   "metadata": {
    "ExecuteTime": {
     "end_time": "2019-06-11T06:03:18.512231Z",
     "start_time": "2019-06-11T06:03:17.492223Z"
    }
   },
   "outputs": [],
   "source": [
    "df_top_users = df.loc[df.userId.isin(top_users), :]"
   ]
  },
  {
   "cell_type": "markdown",
   "metadata": {},
   "source": [
    "Now perform mapping of users to indices and later on - book ISBN numers to indices"
   ]
  },
  {
   "cell_type": "code",
   "execution_count": 16,
   "metadata": {
    "ExecuteTime": {
     "end_time": "2019-06-11T06:03:19.470299Z",
     "start_time": "2019-06-11T06:03:19.000797Z"
    }
   },
   "outputs": [
    {
     "data": {
      "text/html": [
       "<div>\n",
       "<style scoped>\n",
       "    .dataframe tbody tr th:only-of-type {\n",
       "        vertical-align: middle;\n",
       "    }\n",
       "\n",
       "    .dataframe tbody tr th {\n",
       "        vertical-align: top;\n",
       "    }\n",
       "\n",
       "    .dataframe thead th {\n",
       "        text-align: right;\n",
       "    }\n",
       "</style>\n",
       "<table border=\"1\" class=\"dataframe\">\n",
       "  <thead>\n",
       "    <tr style=\"text-align: right;\">\n",
       "      <th></th>\n",
       "      <th>userId</th>\n",
       "      <th>movieId</th>\n",
       "      <th>rating</th>\n",
       "      <th>uidx</th>\n",
       "      <th>midx</th>\n",
       "    </tr>\n",
       "  </thead>\n",
       "  <tbody>\n",
       "    <tr>\n",
       "      <th>0</th>\n",
       "      <td>0</td>\n",
       "      <td>2</td>\n",
       "      <td>3.5</td>\n",
       "      <td>0</td>\n",
       "      <td>1</td>\n",
       "    </tr>\n",
       "    <tr>\n",
       "      <th>1</th>\n",
       "      <td>0</td>\n",
       "      <td>29</td>\n",
       "      <td>3.5</td>\n",
       "      <td>0</td>\n",
       "      <td>28</td>\n",
       "    </tr>\n",
       "    <tr>\n",
       "      <th>2</th>\n",
       "      <td>0</td>\n",
       "      <td>32</td>\n",
       "      <td>3.5</td>\n",
       "      <td>0</td>\n",
       "      <td>31</td>\n",
       "    </tr>\n",
       "  </tbody>\n",
       "</table>\n",
       "</div>"
      ],
      "text/plain": [
       "   userId  movieId  rating  uidx  midx\n",
       "0       0        2     3.5     0     1\n",
       "1       0       29     3.5     0    28\n",
       "2       0       32     3.5     0    31"
      ]
     },
     "execution_count": 16,
     "metadata": {},
     "output_type": "execute_result"
    }
   ],
   "source": [
    "df_top_users['uidx'] = df_top_users.userId.astype('category').cat.codes.values\n",
    "df_top_users['midx'] = df_top_users.movieId.astype('category').cat.codes.values\n",
    "df_top_users.head(3)"
   ]
  },
  {
   "cell_type": "code",
   "execution_count": 13,
   "metadata": {
    "ExecuteTime": {
     "end_time": "2019-06-11T06:04:52.798615Z",
     "start_time": "2019-06-11T06:03:21.696342Z"
    }
   },
   "outputs": [],
   "source": [
    "df_top_users.to_csv(\"./data/processed/movielens/top_users_df.csv\", index=False)"
   ]
  },
  {
   "cell_type": "markdown",
   "metadata": {},
   "source": [
    "Validate results using original dataset"
   ]
  },
  {
   "cell_type": "code",
   "execution_count": 17,
   "metadata": {
    "ExecuteTime": {
     "end_time": "2019-06-11T06:25:51.770110Z",
     "start_time": "2019-06-11T06:25:44.539597Z"
    },
    "scrolled": false
   },
   "outputs": [
    {
     "data": {
      "application/vnd.jupyter.widget-view+json": {
       "model_id": "9660894082364a969f9e11af4188dc1d",
       "version_major": 2,
       "version_minor": 0
      },
      "text/plain": [
       "HBox(children=(IntProgress(value=0), HTML(value='')))"
      ]
     },
     "metadata": {},
     "output_type": "display_data"
    },
    {
     "name": "stdout",
     "output_type": "stream",
     "text": [
      "\n"
     ]
    }
   ],
   "source": [
    "for idx in tqdm(np.random.choice(range(df_top_users.shape[0]), size=100, replace=False)):\n",
    "    row = df_top_users.iloc[idx, :]\n",
    "    cnt_by_original_id = df.loc[df.userId == row['userId'], :].shape[0]\n",
    "    cnt_by_uidx = df_top_users.loc[df_top_users.uidx == row['uidx'], :].shape[0]\n",
    "    \n",
    "    assert cnt_by_original_id == cnt_by_uidx"
   ]
  },
  {
   "cell_type": "markdown",
   "metadata": {},
   "source": [
    "## Train test split by user"
   ]
  },
  {
   "cell_type": "code",
   "execution_count": 18,
   "metadata": {
    "ExecuteTime": {
     "end_time": "2019-06-11T06:25:52.691802Z",
     "start_time": "2019-06-11T06:25:52.559187Z"
    }
   },
   "outputs": [
    {
     "data": {
      "text/plain": [
       "((54000,), (6000,))"
      ]
     },
     "execution_count": 18,
     "metadata": {},
     "output_type": "execute_result"
    }
   ],
   "source": [
    "unique_users = pd.unique(df_top_users.uidx)\n",
    "training_users, test_users = train_test_split(unique_users, train_size=0.9, random_state=333)\n",
    "training_users.shape, test_users.shape"
   ]
  },
  {
   "cell_type": "code",
   "execution_count": 19,
   "metadata": {
    "ExecuteTime": {
     "end_time": "2019-06-11T06:25:53.422958Z",
     "start_time": "2019-06-11T06:25:53.415444Z"
    }
   },
   "outputs": [
    {
     "data": {
      "text/plain": [
       "((43200,), (10800,))"
      ]
     },
     "execution_count": 19,
     "metadata": {},
     "output_type": "execute_result"
    }
   ],
   "source": [
    "train_users, validation_users = train_test_split(training_users, train_size=0.8, random_state=444)\n",
    "train_users.shape, validation_users.shape"
   ]
  },
  {
   "cell_type": "code",
   "execution_count": 20,
   "metadata": {
    "ExecuteTime": {
     "end_time": "2019-06-11T06:25:56.338451Z",
     "start_time": "2019-06-11T06:25:53.862361Z"
    }
   },
   "outputs": [],
   "source": [
    "train_users_df = df_top_users.loc[df_top_users['uidx'].isin(train_users)]\n",
    "val_users_df = df_top_users.loc[df_top_users['uidx'].isin(validation_users)]\n",
    "test_users_df = df_top_users.loc[df_top_users['uidx'].isin(test_users)]"
   ]
  },
  {
   "cell_type": "code",
   "execution_count": 21,
   "metadata": {},
   "outputs": [],
   "source": [
    "# Reset id values in each group\n",
    "\n",
    "train_users_df.uidx = train_users_df.uidx.astype('category').cat.codes.values\n",
    "val_users_df.uidx = val_users_df.uidx.astype('category').cat.codes.values\n",
    "test_users_df.uidx = test_users_df.uidx.astype('category').cat.codes.values"
   ]
  },
  {
   "cell_type": "markdown",
   "metadata": {},
   "source": [
    "Validate"
   ]
  },
  {
   "cell_type": "code",
   "execution_count": 22,
   "metadata": {},
   "outputs": [
    {
     "data": {
      "application/vnd.jupyter.widget-view+json": {
       "model_id": "81860ea3662241da89a15830d0a3300b",
       "version_major": 2,
       "version_minor": 0
      },
      "text/plain": [
       "HBox(children=(IntProgress(value=0, max=3), HTML(value='')))"
      ]
     },
     "metadata": {},
     "output_type": "display_data"
    },
    {
     "name": "stdout",
     "output_type": "stream",
     "text": [
      "\n"
     ]
    }
   ],
   "source": [
    "for users_df in tqdm([train_users_df, val_users_df, test_users_df]):\n",
    "    assert(users_df.uidx.min() == 0)\n",
    "    assert(users_df.midx.min() == 0)"
   ]
  },
  {
   "cell_type": "code",
   "execution_count": 213,
   "metadata": {
    "ExecuteTime": {
     "end_time": "2019-06-11T06:27:28.687628Z",
     "start_time": "2019-06-11T06:25:56.494020Z"
    }
   },
   "outputs": [],
   "source": [
    "train_users_df.to_csv(\"./data/processed/movielens/train_users_df.csv\", index=False)\n",
    "test_users_df.to_csv(\"./data/processed/movielens/test_users_df.csv\", index=False)\n",
    "val_users_df.to_csv(\"./data/processed/movielens/validation_users_df.csv\", index=False)"
   ]
  },
  {
   "cell_type": "code",
   "execution_count": 23,
   "metadata": {},
   "outputs": [],
   "source": [
    "train_users_df = pd.read_csv(\"./data/processed/movielens/train_users_df.csv\", index_col=False)\n",
    "test_users_df = pd.read_csv(\"./data/processed/movielens/test_users_df.csv\", index_col=False)\n",
    "val_users_df = pd.read_csv(\"./data/processed/movielens/validation_users_df.csv\", index_col=False)"
   ]
  },
  {
   "cell_type": "markdown",
   "metadata": {},
   "source": [
    "# Build full ratings matrices"
   ]
  },
  {
   "cell_type": "markdown",
   "metadata": {},
   "source": [
    "Recommendation engines based on autoencoders and/or latent factors model use matrices. Therefore we need to construct such:\n",
    "\n",
    "* Ntr x M - a train matrix of dimensionality: N training users x Movies count\n",
    "* Ntst x M - a test matrix of dimensionality: N test users x Movies count\n",
    "* Nval x M - a validation matrix of dimensionality: N validation users x Movies count\n",
    "\n",
    "Due to their size, those matrices must be sparse (to be able to load into memory)"
   ]
  },
  {
   "cell_type": "code",
   "execution_count": 24,
   "metadata": {},
   "outputs": [],
   "source": [
    "M = df_top_users.midx.nunique()"
   ]
  },
  {
   "cell_type": "code",
   "execution_count": 25,
   "metadata": {},
   "outputs": [],
   "source": [
    "train_matrix = lil_matrix((train_users_df.uidx.nunique(), M))\n",
    "val_matrix = lil_matrix((val_users_df.uidx.nunique(), M))\n",
    "test_matrix = lil_matrix((test_users_df.uidx.nunique(), M))"
   ]
  },
  {
   "cell_type": "code",
   "execution_count": 31,
   "metadata": {},
   "outputs": [],
   "source": [
    "pairs = [(train_users_df, train_matrix), (val_users_df, val_matrix), (test_users_df, test_matrix)]"
   ]
  },
  {
   "cell_type": "code",
   "execution_count": 99,
   "metadata": {
    "ExecuteTime": {
     "end_time": "2019-06-11T07:47:47.283938Z",
     "start_time": "2019-06-11T06:30:44.485780Z"
    }
   },
   "outputs": [
    {
     "data": {
      "application/vnd.jupyter.widget-view+json": {
       "model_id": "082fdc1845f542529369808abdc9775b",
       "version_major": 2,
       "version_minor": 0
      },
      "text/plain": [
       "HBox(children=(IntProgress(value=0, max=3), HTML(value='')))"
      ]
     },
     "metadata": {},
     "output_type": "display_data"
    },
    {
     "data": {
      "application/vnd.jupyter.widget-view+json": {
       "model_id": "6e1db69e4da44e6782f7b91d0148bf73",
       "version_major": 2,
       "version_minor": 0
      },
      "text/plain": [
       "HBox(children=(IntProgress(value=0, max=12054920), HTML(value='')))"
      ]
     },
     "metadata": {},
     "output_type": "display_data"
    },
    {
     "data": {
      "application/vnd.jupyter.widget-view+json": {
       "model_id": "e887f8bc37424fc49a3fae627204875e",
       "version_major": 2,
       "version_minor": 0
      },
      "text/plain": [
       "HBox(children=(IntProgress(value=0, max=3015043), HTML(value='')))"
      ]
     },
     "metadata": {},
     "output_type": "display_data"
    },
    {
     "data": {
      "application/vnd.jupyter.widget-view+json": {
       "model_id": "746011aaa4994783869a4e62f80ed2de",
       "version_major": 2,
       "version_minor": 0
      },
      "text/plain": [
       "HBox(children=(IntProgress(value=0, max=1644837), HTML(value='')))"
      ]
     },
     "metadata": {},
     "output_type": "display_data"
    }
   ],
   "source": [
    "for data, matrix in tqdm(pairs):\n",
    "    for rowidx in tqdm(range(data.shape[0])):\n",
    "        row = data.iloc[rowidx, :]\n",
    "        matrix[int(row['uidx']), int(row['midx'])] = row['rating']"
   ]
  },
  {
   "cell_type": "code",
   "execution_count": 100,
   "metadata": {
    "ExecuteTime": {
     "start_time": "2019-06-10T19:53:45.493Z"
    }
   },
   "outputs": [
    {
     "name": "stdout",
     "output_type": "stream",
     "text": [
      "done\n"
     ]
    }
   ],
   "source": [
    "print(\"done\")"
   ]
  },
  {
   "cell_type": "code",
   "execution_count": 101,
   "metadata": {
    "ExecuteTime": {
     "end_time": "2019-06-10T19:35:17.690822Z",
     "start_time": "2019-06-10T19:35:17.636162Z"
    }
   },
   "outputs": [],
   "source": [
    "train_matrix = train_matrix.tocsr()\n",
    "test_matrix = test_matrix.tocsr()\n",
    "val_matrix = val_matrix.tocsr()"
   ]
  },
  {
   "cell_type": "code",
   "execution_count": 212,
   "metadata": {
    "ExecuteTime": {
     "end_time": "2019-06-10T19:36:10.200585Z",
     "start_time": "2019-06-10T19:36:10.183852Z"
    }
   },
   "outputs": [],
   "source": [
    "save_npz(open(\"./data/processed/movielens/train_matrix.npz\", \"wb\"), train_matrix)\n",
    "save_npz(open(\"./data/processed/movielens/test_matrix.npz\", \"wb\"), test_matrix)\n",
    "save_npz(open(\"./data/processed/movielens/val_matrix.npz\", \"wb\"), val_matrix)"
   ]
  },
  {
   "cell_type": "code",
   "execution_count": 30,
   "metadata": {},
   "outputs": [],
   "source": [
    "train_matrix = load_npz(open(\"./data/processed/movielens/train_matrix.npz\", \"rb\"))\n",
    "test_matrix = load_npz(open(\"./data/processed/movielens/test_matrix.npz\", \"rb\"))\n",
    "val_matrix = load_npz(open(\"./data/processed/movielens/val_matrix.npz\", \"rb\"))"
   ]
  },
  {
   "cell_type": "code",
   "execution_count": 32,
   "metadata": {},
   "outputs": [
    {
     "data": {
      "application/vnd.jupyter.widget-view+json": {
       "model_id": "66b6be49fd124ed39d933d6f0beb2fbe",
       "version_major": 2,
       "version_minor": 0
      },
      "text/plain": [
       "HBox(children=(IntProgress(value=0, max=3), HTML(value='')))"
      ]
     },
     "metadata": {},
     "output_type": "display_data"
    },
    {
     "name": "stdout",
     "output_type": "stream",
     "text": [
      "\n"
     ]
    }
   ],
   "source": [
    "for data, mat in tqdm(pairs):\n",
    "    assert(data.rating.sum() == mat.sum())"
   ]
  },
  {
   "cell_type": "markdown",
   "metadata": {},
   "source": [
    "# Build models"
   ]
  },
  {
   "cell_type": "markdown",
   "metadata": {},
   "source": [
    "For calculating loss function we take **only observed ratings r**. Therefore we build a *mask* that is pointing only to existing ratings. It will be userd to calculate e.g. reconstruction error and/or quality of ratings.\n",
    " \n",
    "\n",
    "If we took full matrix size for calculating e.g. **MSE** - the value will always be very small (close to 0) due to the number of missing ratings. Therefore - we use only number of existing ratings."
   ]
  },
  {
   "cell_type": "code",
   "execution_count": 33,
   "metadata": {},
   "outputs": [],
   "source": [
    "train_mask = (train_matrix > 0.0) * 1.0\n",
    "test_mask = (test_matrix > 0.0) * 1.0\n",
    "val_mask = (val_matrix > 0.0) * 1.0"
   ]
  },
  {
   "cell_type": "code",
   "execution_count": 34,
   "metadata": {},
   "outputs": [
    {
     "data": {
      "text/plain": [
       "3.49753038593371"
      ]
     },
     "execution_count": 34,
     "metadata": {},
     "output_type": "execute_result"
    }
   ],
   "source": [
    "mu = train_matrix.sum() / train_mask.sum()\n",
    "mu"
   ]
  },
  {
   "cell_type": "code",
   "execution_count": 35,
   "metadata": {
    "ExecuteTime": {
     "end_time": "2019-06-10T15:38:48.249428Z",
     "start_time": "2019-06-10T15:38:48.246307Z"
    }
   },
   "outputs": [],
   "source": [
    "def mape(y_true, y_pred):\n",
    "    return np.mean(np.abs( (y_true - y_pred)/y_true ))"
   ]
  },
  {
   "cell_type": "markdown",
   "metadata": {},
   "source": [
    "## Simple autoencoder"
   ]
  },
  {
   "cell_type": "code",
   "execution_count": 36,
   "metadata": {
    "ExecuteTime": {
     "end_time": "2019-06-10T19:43:14.191829Z",
     "start_time": "2019-06-10T19:43:14.188616Z"
    }
   },
   "outputs": [],
   "source": [
    "reg = 0.0001\n",
    "lr = 0.08\n",
    "batch_size = 128\n",
    "epochs=10"
   ]
  },
  {
   "cell_type": "markdown",
   "metadata": {},
   "source": [
    "Our simple autoencoder will use special loss function - considering only **existing** ratings. We assume, that latent factors will allow autoencoder to learn real correlations using only ratings that are really present in a dataset."
   ]
  },
  {
   "cell_type": "markdown",
   "metadata": {},
   "source": [
    "Given the following:\n",
    "\n",
    "$$ W_{ih}, W_{ho} \\ -\\text{weights}  $$\n",
    "$$ b_{in}, b_{out} \\ -\\text{ biases } $$\n",
    "$$ \\theta \\ - \\text{ set of all parametrs for autoencoder} $$\n",
    "$$ g(x) \\ - \\text{nonlinear hidden layers activation} $$\n",
    "$$ f(z) \\ - \\text{ output activation } $$\n",
    "$$ \\textbf{ r } \\ - \\text{ set of visible ratings } $$\n",
    "$$ \\textbf{ y } \\ - \\text{ vector of hidden ratings from test set } $$\n",
    "$$ h(\\textbf{r}; \\theta) \\ - \\text{functional formulation of autoencoder} $$\n",
    "\n",
    "We can write the following:\n",
    "\n",
    "$$ h(\\textbf{r}; \\theta) = f(W_{out} \\cdot g(W_{in} \\cdot \\textbf{r} + b_{in} ) + b_{out}) $$\n",
    "\n",
    "Out **custom loss function** is defined as:\n",
    "\n",
    "$$ ℒ(\\textbf{r}, h(\\textbf{r}; \\theta)) = ℒ(\\textbf{r}, \\hat{\\textbf{r}}) = \\frac{1}{\\left| \\textbf{r} \\right|} \\sqrt{\\sum_{i=1}^r \\left( r_i - \\hat{r_i} \\right)} $$ "
   ]
  },
  {
   "cell_type": "code",
   "execution_count": 45,
   "metadata": {
    "ExecuteTime": {
     "end_time": "2019-06-10T19:42:59.955156Z",
     "start_time": "2019-06-10T19:42:59.948708Z"
    }
   },
   "outputs": [],
   "source": [
    "def custom_loss(y_true, y_pred):\n",
    "    mask = tf.cast(tf.not_equal(y_true, 0), dtype='float32')\n",
    "    y_true = y_true + mu * mask\n",
    "    y_pred = y_pred + mu * mask\n",
    "    diff = y_pred - y_true\n",
    "    sqdiff = diff * diff * mask\n",
    "    sse = tf.reduce_sum(tf.reduce_sum(sqdiff))\n",
    "    n = tf.reduce_sum(tf.reduce_sum(mask))\n",
    "    return sse / n\n",
    "\n",
    "def custom_perc_loss(y_true, y_pred):\n",
    "    mask = tf.cast(tf.not_equal(y_true, 0), dtype='float32')\n",
    "    mape = tf.keras.losses.MeanAbsolutePercentageError()\n",
    "    return mape(y_true * mask, y_pred * mask)\n",
    "\n",
    "def generator(ratings, mask, normalize=False):\n",
    "    while True:\n",
    "        ratings, mask = shuffle(ratings, mask)\n",
    "        for i in range(ratings.shape[0] // batch_size + 1):\n",
    "            upper = min((i+1)*batch_size, ratings.shape[0])\n",
    "            r = ratings[i*batch_size:upper].toarray()\n",
    "            m = mask[i*batch_size:upper].toarray()\n",
    "            if normalize:\n",
    "                r = r - mu * m\n",
    "            yield r, r"
   ]
  },
  {
   "cell_type": "code",
   "execution_count": 46,
   "metadata": {
    "ExecuteTime": {
     "end_time": "2019-06-10T19:43:31.171170Z",
     "start_time": "2019-06-10T19:43:30.765747Z"
    }
   },
   "outputs": [],
   "source": [
    "# input.size -> 1500 -> input.size \n",
    "\n",
    "h1 = tf.keras.layers.Dense(\n",
    "    1500, \n",
    "    input_shape=(train_matrix.shape[1], )\n",
    "    activation='relu', \n",
    "    activity_regularizer=tf.keras.regularizers.l1_l2(reg))\n",
    "\n",
    "d1 = tf.keras.layers.Dropout(rate=0.2)\n",
    "out = tf.keras.layers.Dense(\n",
    "    train_matrix.shape[1], \n",
    "    kernel_regularizer=tf.keras.regularizers.l2(reg))\n",
    "\n",
    "model = tf.keras.models.Sequential([h1, d1, out])\n",
    "model.compile(\n",
    "  loss=custom_loss,\n",
    "  optimizer=tf.train.RMSPropOptimizer(learning_rate=lr),\n",
    "  metrics=[custom_loss, custom_perc_loss])"
   ]
  },
  {
   "cell_type": "code",
   "execution_count": 47,
   "metadata": {
    "ExecuteTime": {
     "end_time": "2019-06-10T19:45:09.671439Z",
     "start_time": "2019-06-10T19:44:49.534083Z"
    }
   },
   "outputs": [
    {
     "name": "stdout",
     "output_type": "stream",
     "text": [
      "Epoch 1/10\n",
      "85/85 [==============================] - 10s 113ms/step - loss: 0.9152 - custom_loss: 0.9151 - custom_perc_loss: 0.3465\n",
      "338/338 [==============================] - 114s 337ms/step - loss: 59.9457 - custom_loss: 48.9548 - custom_perc_loss: 0.8107 - val_loss: 0.9152 - val_custom_loss: 0.9151 - val_custom_perc_loss: 0.3465\n",
      "Epoch 2/10\n",
      "85/85 [==============================] - 9s 111ms/step - loss: 0.8883 - custom_loss: 0.8882 - custom_perc_loss: 0.3420\n",
      "338/338 [==============================] - 112s 332ms/step - loss: 0.8967 - custom_loss: 0.8945 - custom_perc_loss: 0.3393 - val_loss: 0.8883 - val_custom_loss: 0.8882 - val_custom_perc_loss: 0.3420\n",
      "Epoch 3/10\n",
      "85/85 [==============================] - 10s 112ms/step - loss: 0.8944 - custom_loss: 0.8944 - custom_perc_loss: 0.3443\n",
      "338/338 [==============================] - 112s 332ms/step - loss: 0.8834 - custom_loss: 0.8834 - custom_perc_loss: 0.3385 - val_loss: 0.8944 - val_custom_loss: 0.8944 - val_custom_perc_loss: 0.3443\n",
      "Epoch 4/10\n",
      "85/85 [==============================] - 9s 111ms/step - loss: 0.8779 - custom_loss: 0.8779 - custom_perc_loss: 0.3384\n",
      "338/338 [==============================] - 112s 332ms/step - loss: 0.8804 - custom_loss: 0.8804 - custom_perc_loss: 0.3385 - val_loss: 0.8779 - val_custom_loss: 0.8779 - val_custom_perc_loss: 0.3384\n",
      "Epoch 5/10\n",
      "85/85 [==============================] - 10s 113ms/step - loss: 0.8849 - custom_loss: 0.8849 - custom_perc_loss: 0.3467\n",
      "338/338 [==============================] - 115s 339ms/step - loss: 0.8788 - custom_loss: 0.8788 - custom_perc_loss: 0.3383 - val_loss: 0.8849 - val_custom_loss: 0.8849 - val_custom_perc_loss: 0.3467\n",
      "Epoch 6/10\n",
      "85/85 [==============================] - 9s 111ms/step - loss: 0.8958 - custom_loss: 0.8958 - custom_perc_loss: 0.3443\n",
      "338/338 [==============================] - 112s 333ms/step - loss: 0.8780 - custom_loss: 0.8780 - custom_perc_loss: 0.3384 - val_loss: 0.8958 - val_custom_loss: 0.8958 - val_custom_perc_loss: 0.3443\n",
      "Epoch 7/10\n",
      "85/85 [==============================] - 10s 113ms/step - loss: 0.8920 - custom_loss: 0.8920 - custom_perc_loss: 0.3472\n",
      "338/338 [==============================] - 112s 333ms/step - loss: 0.8770 - custom_loss: 0.8770 - custom_perc_loss: 0.3383 - val_loss: 0.8920 - val_custom_loss: 0.8920 - val_custom_perc_loss: 0.3472\n",
      "Epoch 8/10\n",
      "85/85 [==============================] - 9s 111ms/step - loss: 0.8856 - custom_loss: 0.8856 - custom_perc_loss: 0.3408\n",
      "338/338 [==============================] - 112s 331ms/step - loss: 0.8764 - custom_loss: 0.8764 - custom_perc_loss: 0.3382 - val_loss: 0.8856 - val_custom_loss: 0.8856 - val_custom_perc_loss: 0.3408\n",
      "Epoch 9/10\n",
      "85/85 [==============================] - 10s 112ms/step - loss: 0.8922 - custom_loss: 0.8922 - custom_perc_loss: 0.3485\n",
      "338/338 [==============================] - 112s 332ms/step - loss: 0.8770 - custom_loss: 0.8770 - custom_perc_loss: 0.3382 - val_loss: 0.8922 - val_custom_loss: 0.8922 - val_custom_perc_loss: 0.3485\n",
      "Epoch 10/10\n",
      "85/85 [==============================] - 9s 111ms/step - loss: 0.8853 - custom_loss: 0.8853 - custom_perc_loss: 0.3443\n",
      "338/338 [==============================] - 112s 332ms/step - loss: 0.8771 - custom_loss: 0.8771 - custom_perc_loss: 0.3381 - val_loss: 0.8853 - val_custom_loss: 0.8853 - val_custom_perc_loss: 0.3443\n"
     ]
    }
   ],
   "source": [
    "model_hist = model.fit_generator(\n",
    "  generator(train_matrix, train_mask),\n",
    "  validation_data=generator(val_matrix.copy(), val_mask.copy()),\n",
    "  epochs=epochs,\n",
    "  steps_per_epoch=train_matrix.shape[0] // batch_size + 1,\n",
    "  validation_steps=val_matrix.shape[0] // batch_size + 1,\n",
    ")"
   ]
  },
  {
   "cell_type": "code",
   "execution_count": 52,
   "metadata": {},
   "outputs": [
    {
     "name": "stdout",
     "output_type": "stream",
     "text": [
      "WARNING:tensorflow:TensorFlow optimizers do not make it possible to access optimizer attributes or optimizer state after instantiation. As a result, we cannot save the optimizer as part of the model save file.You will have to compile your model again after loading it. Prefer using a Keras optimizer instead (see keras.io/optimizers).\n"
     ]
    }
   ],
   "source": [
    "model.save(\"./models/movielens_autorec/autorec_simple.h5\")"
   ]
  },
  {
   "cell_type": "code",
   "execution_count": 47,
   "metadata": {},
   "outputs": [
    {
     "name": "stdout",
     "output_type": "stream",
     "text": [
      "WARNING:tensorflow:From /data/anaconda/envs/py35/lib/python3.5/site-packages/tensorflow/python/ops/resource_variable_ops.py:435: colocate_with (from tensorflow.python.framework.ops) is deprecated and will be removed in a future version.\n",
      "Instructions for updating:\n",
      "Colocations handled automatically by placer.\n",
      "WARNING:tensorflow:From /data/anaconda/envs/py35/lib/python3.5/site-packages/tensorflow/python/keras/layers/core.py:143: calling dropout (from tensorflow.python.ops.nn_ops) with keep_prob is deprecated and will be removed in a future version.\n",
      "Instructions for updating:\n",
      "Please use `rate` instead of `keep_prob`. Rate should be set to `rate = 1 - keep_prob`.\n",
      "WARNING:tensorflow:No training configuration found in save file: the model was *not* compiled. Compile it manually.\n"
     ]
    }
   ],
   "source": [
    "model = tf.keras.models.load_model(\"./models/movielens_autorec/autorec_simple.h5\")"
   ]
  },
  {
   "cell_type": "code",
   "execution_count": 53,
   "metadata": {},
   "outputs": [],
   "source": [
    "model.compile(\n",
    "    loss=custom_loss,\n",
    "  optimizer=tf.train.RMSPropOptimizer(learning_rate=lr),\n",
    "  metrics=[custom_loss, custom_perc_loss]\n",
    ")"
   ]
  },
  {
   "cell_type": "markdown",
   "metadata": {},
   "source": [
    "### Autorec reconstruction"
   ]
  },
  {
   "cell_type": "code",
   "execution_count": 48,
   "metadata": {},
   "outputs": [
    {
     "name": "stdout",
     "output_type": "stream",
     "text": [
      "6000/6000 [==============================] - 11s 2ms/sample - loss: 0.8847 - custom_loss: 0.8848 - custom_perc_loss: 0.3325\n"
     ]
    },
    {
     "data": {
      "text/plain": [
       "[0.8847454392115275, 0.8848064, 0.33245188]"
      ]
     },
     "execution_count": 48,
     "metadata": {},
     "output_type": "execute_result"
    }
   ],
   "source": [
    "model.evaluate(test_matrix, test_matrix)"
   ]
  },
  {
   "cell_type": "code",
   "execution_count": 109,
   "metadata": {},
   "outputs": [
    {
     "data": {
      "text/plain": [
       "dict_keys(['custom_perc_loss', 'val_loss', 'val_custom_perc_loss', 'custom_loss', 'val_custom_loss', 'loss'])"
      ]
     },
     "execution_count": 109,
     "metadata": {},
     "output_type": "execute_result"
    }
   ],
   "source": [
    "model_hist.history.keys()"
   ]
  },
  {
   "cell_type": "code",
   "execution_count": 129,
   "metadata": {},
   "outputs": [
    {
     "data": {
      "text/html": [
       "\n",
       "<div class=\"bk-root\">\n",
       "    <div class=\"bk-plotdiv\" id=\"8a367de3-5609-4f96-8450-79519219c7f0\"></div>\n",
       "</div>"
      ]
     },
     "metadata": {},
     "output_type": "display_data"
    },
    {
     "data": {
      "application/javascript": [
       "(function(root) {\n",
       "  function embed_document(root) {\n",
       "    \n",
       "  var docs_json = {\"e1a3ac52-7878-4555-ae02-0fafd2488a2f\":{\"roots\":{\"references\":[{\"attributes\":{\"plot\":{\"id\":\"ad3ba139-e151-474b-b82e-1c1e773ac940\",\"subtype\":\"Figure\",\"type\":\"Plot\"},\"ticker\":{\"id\":\"7c8012a4-b0d1-4322-812b-e1b4b1028f3b\",\"type\":\"BasicTicker\"}},\"id\":\"f4858fcd-e2ea-4025-8f9a-f23fdbb5a931\",\"type\":\"Grid\"},{\"attributes\":{\"below\":[{\"id\":\"80c3d4a9-2333-4ebf-94c0-6427e33c5da1\",\"type\":\"LinearAxis\"}],\"left\":[{\"id\":\"c51c3aea-c1a8-457a-971e-a7dd1647a7ca\",\"type\":\"LinearAxis\"}],\"plot_height\":400,\"renderers\":[{\"id\":\"80c3d4a9-2333-4ebf-94c0-6427e33c5da1\",\"type\":\"LinearAxis\"},{\"id\":\"f4858fcd-e2ea-4025-8f9a-f23fdbb5a931\",\"type\":\"Grid\"},{\"id\":\"c51c3aea-c1a8-457a-971e-a7dd1647a7ca\",\"type\":\"LinearAxis\"},{\"id\":\"31dc83ef-f97c-4626-a3ab-8a3cd7dbcb23\",\"type\":\"Grid\"},{\"id\":\"1a86e6fa-2ee5-44fc-8b87-c5284449a996\",\"type\":\"BoxAnnotation\"},{\"id\":\"39c3c972-8bae-40dd-bc93-f3df2ae6c377\",\"type\":\"GlyphRenderer\"}],\"title\":{\"id\":\"a7390878-0706-439e-be50-cf916b5e9b64\",\"type\":\"Title\"},\"toolbar\":{\"id\":\"9eb7351b-9133-4e63-ad2a-8c9620530c18\",\"type\":\"Toolbar\"},\"x_range\":{\"id\":\"d3940c01-7d5c-45ea-a8ab-72849289428f\",\"type\":\"DataRange1d\"},\"x_scale\":{\"id\":\"84826b6e-64ff-4e33-a669-e31062f0fc04\",\"type\":\"LinearScale\"},\"y_range\":{\"id\":\"47e95af6-842d-4e52-a8a6-5f5201bacae6\",\"type\":\"DataRange1d\"},\"y_scale\":{\"id\":\"5439a215-477e-411b-8f05-352f5a5a0eb7\",\"type\":\"LinearScale\"}},\"id\":\"ad3ba139-e151-474b-b82e-1c1e773ac940\",\"subtype\":\"Figure\",\"type\":\"Plot\"},{\"attributes\":{},\"id\":\"5439a215-477e-411b-8f05-352f5a5a0eb7\",\"type\":\"LinearScale\"},{\"attributes\":{},\"id\":\"08be9692-5b06-4c1f-b23c-182697048916\",\"type\":\"Selection\"},{\"attributes\":{\"overlay\":{\"id\":\"1a86e6fa-2ee5-44fc-8b87-c5284449a996\",\"type\":\"BoxAnnotation\"}},\"id\":\"bcb8fa56-ce09-42bf-9422-5f8c4d866b7b\",\"type\":\"BoxZoomTool\"},{\"attributes\":{\"bottom_units\":\"screen\",\"fill_alpha\":{\"value\":0.5},\"fill_color\":{\"value\":\"lightgrey\"},\"left_units\":\"screen\",\"level\":\"overlay\",\"line_alpha\":{\"value\":1.0},\"line_color\":{\"value\":\"black\"},\"line_dash\":[4,4],\"line_width\":{\"value\":2},\"plot\":null,\"render_mode\":\"css\",\"right_units\":\"screen\",\"top_units\":\"screen\"},\"id\":\"1a86e6fa-2ee5-44fc-8b87-c5284449a996\",\"type\":\"BoxAnnotation\"},{\"attributes\":{\"callback\":null},\"id\":\"47e95af6-842d-4e52-a8a6-5f5201bacae6\",\"type\":\"DataRange1d\"},{\"attributes\":{},\"id\":\"5a5dedbd-170e-4bed-9eff-b4ff2748dd84\",\"type\":\"SaveTool\"},{\"attributes\":{},\"id\":\"84826b6e-64ff-4e33-a669-e31062f0fc04\",\"type\":\"LinearScale\"},{\"attributes\":{\"callback\":null,\"renderers\":\"auto\",\"tooltips\":[[\"err\",\"@y\"]]},\"id\":\"ad2a8832-81e4-4437-85cf-becd5b27f251\",\"type\":\"HoverTool\"},{\"attributes\":{\"callback\":null},\"id\":\"d3940c01-7d5c-45ea-a8ab-72849289428f\",\"type\":\"DataRange1d\"},{\"attributes\":{\"active_drag\":\"auto\",\"active_inspect\":\"auto\",\"active_scroll\":\"auto\",\"active_tap\":\"auto\",\"tools\":[{\"id\":\"4ec6be91-6b3c-44e0-b290-c4f47798986c\",\"type\":\"PanTool\"},{\"id\":\"1ca0a953-feca-4a79-9f7d-b5d7b1c72d12\",\"type\":\"WheelZoomTool\"},{\"id\":\"bcb8fa56-ce09-42bf-9422-5f8c4d866b7b\",\"type\":\"BoxZoomTool\"},{\"id\":\"5a5dedbd-170e-4bed-9eff-b4ff2748dd84\",\"type\":\"SaveTool\"},{\"id\":\"dacee36c-66ca-4a3b-8745-55b9107a5ba8\",\"type\":\"ResetTool\"},{\"id\":\"ad0b7779-94e4-48d5-aada-c88920c813df\",\"type\":\"HelpTool\"},{\"id\":\"ad2a8832-81e4-4437-85cf-becd5b27f251\",\"type\":\"HoverTool\"}]},\"id\":\"9eb7351b-9133-4e63-ad2a-8c9620530c18\",\"type\":\"Toolbar\"},{\"attributes\":{},\"id\":\"dacee36c-66ca-4a3b-8745-55b9107a5ba8\",\"type\":\"ResetTool\"},{\"attributes\":{\"formatter\":{\"id\":\"1b446225-5273-4d65-adfb-44445b30cb30\",\"type\":\"BasicTickFormatter\"},\"plot\":{\"id\":\"ad3ba139-e151-474b-b82e-1c1e773ac940\",\"subtype\":\"Figure\",\"type\":\"Plot\"},\"ticker\":{\"id\":\"7c8012a4-b0d1-4322-812b-e1b4b1028f3b\",\"type\":\"BasicTicker\"}},\"id\":\"80c3d4a9-2333-4ebf-94c0-6427e33c5da1\",\"type\":\"LinearAxis\"},{\"attributes\":{\"formatter\":{\"id\":\"e17ba949-ec82-4b32-a198-a40868b7d29f\",\"type\":\"BasicTickFormatter\"},\"plot\":{\"id\":\"ad3ba139-e151-474b-b82e-1c1e773ac940\",\"subtype\":\"Figure\",\"type\":\"Plot\"},\"ticker\":{\"id\":\"d2624730-ea97-4d97-911b-90daee5f364b\",\"type\":\"BasicTicker\"}},\"id\":\"c51c3aea-c1a8-457a-971e-a7dd1647a7ca\",\"type\":\"LinearAxis\"},{\"attributes\":{\"source\":{\"id\":\"225e5002-d869-4a12-a413-5eadf142864c\",\"type\":\"ColumnDataSource\"}},\"id\":\"37c88999-9290-431e-9921-5fe2add74e7c\",\"type\":\"CDSView\"},{\"attributes\":{},\"id\":\"6cc97884-4ead-46e0-8c82-1aead7e9586e\",\"type\":\"UnionRenderers\"},{\"attributes\":{\"line_alpha\":0.1,\"line_color\":\"#1f77b4\",\"line_width\":2,\"x\":{\"field\":\"x\"},\"y\":{\"field\":\"y\"}},\"id\":\"559a583c-02cb-47ae-93ea-1eadfe183d89\",\"type\":\"Line\"},{\"attributes\":{\"callback\":null,\"data\":{\"x\":[0,1,2,3,4,5,6,7,8,9],\"y\":[0.34648463129997253,0.3420242965221405,0.34431105852127075,0.3383980691432953,0.3467243015766144,0.3443160653114319,0.3471659719944,0.3408096432685852,0.34846463799476624,0.3442675769329071]},\"selected\":{\"id\":\"08be9692-5b06-4c1f-b23c-182697048916\",\"type\":\"Selection\"},\"selection_policy\":{\"id\":\"6cc97884-4ead-46e0-8c82-1aead7e9586e\",\"type\":\"UnionRenderers\"}},\"id\":\"225e5002-d869-4a12-a413-5eadf142864c\",\"type\":\"ColumnDataSource\"},{\"attributes\":{},\"id\":\"7c8012a4-b0d1-4322-812b-e1b4b1028f3b\",\"type\":\"BasicTicker\"},{\"attributes\":{\"line_color\":\"green\",\"line_width\":2,\"x\":{\"field\":\"x\"},\"y\":{\"field\":\"y\"}},\"id\":\"24133c28-291c-484a-a0c9-da6419eb49cd\",\"type\":\"Line\"},{\"attributes\":{\"dimension\":1,\"plot\":{\"id\":\"ad3ba139-e151-474b-b82e-1c1e773ac940\",\"subtype\":\"Figure\",\"type\":\"Plot\"},\"ticker\":{\"id\":\"d2624730-ea97-4d97-911b-90daee5f364b\",\"type\":\"BasicTicker\"}},\"id\":\"31dc83ef-f97c-4626-a3ab-8a3cd7dbcb23\",\"type\":\"Grid\"},{\"attributes\":{},\"id\":\"ad0b7779-94e4-48d5-aada-c88920c813df\",\"type\":\"HelpTool\"},{\"attributes\":{\"plot\":null,\"text\":\"\"},\"id\":\"a7390878-0706-439e-be50-cf916b5e9b64\",\"type\":\"Title\"},{\"attributes\":{},\"id\":\"1ca0a953-feca-4a79-9f7d-b5d7b1c72d12\",\"type\":\"WheelZoomTool\"},{\"attributes\":{},\"id\":\"1b446225-5273-4d65-adfb-44445b30cb30\",\"type\":\"BasicTickFormatter\"},{\"attributes\":{},\"id\":\"e17ba949-ec82-4b32-a198-a40868b7d29f\",\"type\":\"BasicTickFormatter\"},{\"attributes\":{},\"id\":\"4ec6be91-6b3c-44e0-b290-c4f47798986c\",\"type\":\"PanTool\"},{\"attributes\":{},\"id\":\"d2624730-ea97-4d97-911b-90daee5f364b\",\"type\":\"BasicTicker\"},{\"attributes\":{\"data_source\":{\"id\":\"225e5002-d869-4a12-a413-5eadf142864c\",\"type\":\"ColumnDataSource\"},\"glyph\":{\"id\":\"24133c28-291c-484a-a0c9-da6419eb49cd\",\"type\":\"Line\"},\"hover_glyph\":null,\"muted_glyph\":null,\"nonselection_glyph\":{\"id\":\"559a583c-02cb-47ae-93ea-1eadfe183d89\",\"type\":\"Line\"},\"selection_glyph\":null,\"view\":{\"id\":\"37c88999-9290-431e-9921-5fe2add74e7c\",\"type\":\"CDSView\"}},\"id\":\"39c3c972-8bae-40dd-bc93-f3df2ae6c377\",\"type\":\"GlyphRenderer\"}],\"root_ids\":[\"ad3ba139-e151-474b-b82e-1c1e773ac940\"]},\"title\":\"Bokeh Application\",\"version\":\"0.12.16\"}};\n",
       "  var render_items = [{\"docid\":\"e1a3ac52-7878-4555-ae02-0fafd2488a2f\",\"elementid\":\"8a367de3-5609-4f96-8450-79519219c7f0\",\"modelid\":\"ad3ba139-e151-474b-b82e-1c1e773ac940\"}];\n",
       "  root.Bokeh.embed.embed_items_notebook(docs_json, render_items);\n",
       "\n",
       "  }\n",
       "  if (root.Bokeh !== undefined) {\n",
       "    embed_document(root);\n",
       "  } else {\n",
       "    var attempts = 0;\n",
       "    var timer = setInterval(function(root) {\n",
       "      if (root.Bokeh !== undefined) {\n",
       "        embed_document(root);\n",
       "        clearInterval(timer);\n",
       "      }\n",
       "      attempts++;\n",
       "      if (attempts > 100) {\n",
       "        console.log(\"Bokeh: ERROR: Unable to run BokehJS code because BokehJS library is missing\")\n",
       "        clearInterval(timer);\n",
       "      }\n",
       "    }, 10, root)\n",
       "  }\n",
       "})(window);"
      ],
      "application/vnd.bokehjs_exec.v0+json": ""
     },
     "metadata": {
      "application/vnd.bokehjs_exec.v0+json": {
       "id": "ad3ba139-e151-474b-b82e-1c1e773ac940"
      }
     },
     "output_type": "display_data"
    }
   ],
   "source": [
    "plot_loss(model_hist, 'val_custom_perc_loss')"
   ]
  },
  {
   "cell_type": "markdown",
   "metadata": {},
   "source": [
    "## Multi layer autoencoder"
   ]
  },
  {
   "cell_type": "code",
   "execution_count": 73,
   "metadata": {},
   "outputs": [],
   "source": [
    "# Model: input.size -> 1500 -> 500 -> 1500 -> input.size\n",
    "\n",
    "model_autorec_deep = tf.keras.models.Sequential([\n",
    "    \n",
    "    tf.keras.layers.Dense(1500, activation='relu', activity_regularizer=tf.keras.regularizers.l1_l2(reg), input_shape=(train_matrix.shape[1], )),\n",
    "    tf.keras.layers.Dropout(rate=0.2),\n",
    "    tf.keras.layers.Dense(500, activation='relu', activity_regularizer=tf.keras.regularizers.l1_l2(reg)),\n",
    "    tf.keras.layers.Dropout(rate=0.2),\n",
    "    tf.keras.layers.Dense(1500, activation='relu', activity_regularizer=tf.keras.regularizers.l1_l2(reg)),\n",
    "    tf.keras.layers.Dropout(rate=0.2),\n",
    "    tf.keras.layers.Dense(train_matrix.shape[1], kernel_regularizer=tf.keras.regularizers.l1_l2(reg))\n",
    "])\n",
    "\n",
    "model_autorec_deep.compile(\n",
    "  loss=custom_loss,\n",
    "  optimizer=tf.train.AdamOptimizer(lr),\n",
    "  metrics=[custom_loss, custom_perc_loss],\n",
    ")"
   ]
  },
  {
   "cell_type": "code",
   "execution_count": 74,
   "metadata": {},
   "outputs": [
    {
     "name": "stdout",
     "output_type": "stream",
     "text": [
      "Epoch 1/5\n",
      "85/85 [==============================] - 11s 134ms/step - loss: 89.1296 - custom_loss: 1.1699 - custom_perc_loss: 0.3467\n",
      "338/338 [==============================] - 133s 395ms/step - loss: 679.3275 - custom_loss: 184.6780 - custom_perc_loss: 0.7801 - val_loss: 89.1296 - val_custom_loss: 1.1699 - val_custom_perc_loss: 0.3467\n",
      "Epoch 2/5\n",
      "85/85 [==============================] - 11s 133ms/step - loss: 72.1368 - custom_loss: 0.9466 - custom_perc_loss: 0.3416\n",
      "338/338 [==============================] - 130s 384ms/step - loss: 112.1540 - custom_loss: 6.8580 - custom_perc_loss: 0.3552 - val_loss: 72.1368 - val_custom_loss: 0.9466 - val_custom_perc_loss: 0.3416\n",
      "Epoch 3/5\n",
      "85/85 [==============================] - 11s 133ms/step - loss: 78.5351 - custom_loss: 0.8785 - custom_perc_loss: 0.3462\n",
      "338/338 [==============================] - 130s 385ms/step - loss: 113.9213 - custom_loss: 2.6676 - custom_perc_loss: 0.3379 - val_loss: 78.5351 - val_custom_loss: 0.8785 - val_custom_perc_loss: 0.3462\n",
      "Epoch 4/5\n",
      "85/85 [==============================] - 11s 133ms/step - loss: 52.1888 - custom_loss: 0.8795 - custom_perc_loss: 0.3414\n",
      "338/338 [==============================] - 130s 385ms/step - loss: 83.9787 - custom_loss: 1.7218 - custom_perc_loss: 0.3375 - val_loss: 52.1888 - val_custom_loss: 0.8795 - val_custom_perc_loss: 0.3414\n",
      "Epoch 5/5\n",
      "85/85 [==============================] - 11s 133ms/step - loss: 65.1585 - custom_loss: 0.8655 - custom_perc_loss: 0.3356\n",
      "338/338 [==============================] - 130s 386ms/step - loss: 72.7003 - custom_loss: 1.7114 - custom_perc_loss: 0.3372 - val_loss: 65.1585 - val_custom_loss: 0.8655 - val_custom_perc_loss: 0.3356\n"
     ]
    }
   ],
   "source": [
    "hist_deep_autorec = model_autorec_deep.fit_generator(\n",
    "  generator(train_matrix, train_mask, normalize=False),\n",
    "  validation_data=generator(val_matrix.copy(), val_mask.copy()),\n",
    "  epochs=5,\n",
    "  steps_per_epoch=train_matrix.shape[0] // batch_size + 1,\n",
    "  validation_steps=val_matrix.shape[0] // batch_size + 1,\n",
    ")"
   ]
  },
  {
   "cell_type": "code",
   "execution_count": 75,
   "metadata": {},
   "outputs": [
    {
     "name": "stdout",
     "output_type": "stream",
     "text": [
      "6000/6000 [==============================] - 15s 3ms/sample - loss: 65.1643 - custom_loss: 0.8750 - custom_perc_loss: 0.3292\n"
     ]
    },
    {
     "data": {
      "text/plain": [
       "[65.1642725423177, 0.87495154, 0.32919633]"
      ]
     },
     "execution_count": 75,
     "metadata": {},
     "output_type": "execute_result"
    }
   ],
   "source": [
    "model_autorec_deep.evaluate(test_matrix, test_matrix)"
   ]
  },
  {
   "cell_type": "code",
   "execution_count": 76,
   "metadata": {},
   "outputs": [
    {
     "data": {
      "text/plain": [
       "dict_keys(['custom_perc_loss', 'val_loss', 'val_custom_perc_loss', 'custom_loss', 'val_custom_loss', 'loss'])"
      ]
     },
     "execution_count": 76,
     "metadata": {},
     "output_type": "execute_result"
    }
   ],
   "source": [
    "hist_deep_autorec.history.keys()"
   ]
  },
  {
   "cell_type": "code",
   "execution_count": 130,
   "metadata": {},
   "outputs": [
    {
     "data": {
      "text/html": [
       "\n",
       "<div class=\"bk-root\">\n",
       "    <div class=\"bk-plotdiv\" id=\"cb9fc8a3-d3d1-42f8-a1d0-b392a72d5aad\"></div>\n",
       "</div>"
      ]
     },
     "metadata": {},
     "output_type": "display_data"
    },
    {
     "data": {
      "application/javascript": [
       "(function(root) {\n",
       "  function embed_document(root) {\n",
       "    \n",
       "  var docs_json = {\"47a6b98b-fcb5-408a-ae1e-8c1d7b5937b1\":{\"roots\":{\"references\":[{\"attributes\":{\"callback\":null},\"id\":\"345ea268-f79f-43e9-86ed-643d62a2295b\",\"type\":\"DataRange1d\"},{\"attributes\":{\"formatter\":{\"id\":\"90621ac5-25e3-4b03-aff5-c871fa2bfe80\",\"type\":\"BasicTickFormatter\"},\"plot\":{\"id\":\"68452235-496f-443f-8a35-bc4c6a74e572\",\"subtype\":\"Figure\",\"type\":\"Plot\"},\"ticker\":{\"id\":\"04da267d-13ed-412c-a0b8-a12d1dee26de\",\"type\":\"BasicTicker\"}},\"id\":\"3c0cf532-ee77-4527-84f5-d13ab68bfc9f\",\"type\":\"LinearAxis\"},{\"attributes\":{\"source\":{\"id\":\"bb31d0eb-9d6a-4431-a357-c52ef48e93b2\",\"type\":\"ColumnDataSource\"}},\"id\":\"9861fee7-da9e-42c4-b8b4-abe19f29e78c\",\"type\":\"CDSView\"},{\"attributes\":{\"dimension\":1,\"plot\":{\"id\":\"68452235-496f-443f-8a35-bc4c6a74e572\",\"subtype\":\"Figure\",\"type\":\"Plot\"},\"ticker\":{\"id\":\"04da267d-13ed-412c-a0b8-a12d1dee26de\",\"type\":\"BasicTicker\"}},\"id\":\"5906fc8f-329b-4ca1-95b9-62d6b2f17b2e\",\"type\":\"Grid\"},{\"attributes\":{\"plot\":{\"id\":\"68452235-496f-443f-8a35-bc4c6a74e572\",\"subtype\":\"Figure\",\"type\":\"Plot\"},\"ticker\":{\"id\":\"5a9371ec-94c7-4c04-97d6-17e23606de99\",\"type\":\"BasicTicker\"}},\"id\":\"0fa06614-e88d-4f3b-83ee-470f7dce081d\",\"type\":\"Grid\"},{\"attributes\":{},\"id\":\"90621ac5-25e3-4b03-aff5-c871fa2bfe80\",\"type\":\"BasicTickFormatter\"},{\"attributes\":{\"callback\":null},\"id\":\"93189599-4deb-4bcd-9079-479fb202a98c\",\"type\":\"DataRange1d\"},{\"attributes\":{},\"id\":\"de8ae6d7-c414-4f52-87d7-70b474b588ab\",\"type\":\"Selection\"},{\"attributes\":{\"active_drag\":\"auto\",\"active_inspect\":\"auto\",\"active_scroll\":\"auto\",\"active_tap\":\"auto\",\"tools\":[{\"id\":\"69bf2d4b-316c-467a-86ff-3e3cca1febe2\",\"type\":\"PanTool\"},{\"id\":\"fc4eb1c5-0c8c-43d0-bbb2-bd8f34c8670a\",\"type\":\"WheelZoomTool\"},{\"id\":\"b2b5506d-c34c-4a44-864e-b960294431b3\",\"type\":\"BoxZoomTool\"},{\"id\":\"1d05d17c-15db-4505-851c-417b8be120b8\",\"type\":\"SaveTool\"},{\"id\":\"1f3d7a47-2abb-4be5-8529-aa534e07cf32\",\"type\":\"ResetTool\"},{\"id\":\"c08b024b-77bd-468f-9979-3a37c40d282b\",\"type\":\"HelpTool\"},{\"id\":\"964d7928-1dfb-402c-ab87-4c6e4ebc50ea\",\"type\":\"HoverTool\"}]},\"id\":\"35280148-b826-47cc-a4a2-2ef0dbedc550\",\"type\":\"Toolbar\"},{\"attributes\":{},\"id\":\"1e6da5a5-57d6-4329-a8b1-a83499d5b76e\",\"type\":\"BasicTickFormatter\"},{\"attributes\":{},\"id\":\"69bf2d4b-316c-467a-86ff-3e3cca1febe2\",\"type\":\"PanTool\"},{\"attributes\":{},\"id\":\"fc4eb1c5-0c8c-43d0-bbb2-bd8f34c8670a\",\"type\":\"WheelZoomTool\"},{\"attributes\":{\"plot\":null,\"text\":\"\"},\"id\":\"19e90e32-6f8d-45a7-aa87-e0e55e9127f5\",\"type\":\"Title\"},{\"attributes\":{\"below\":[{\"id\":\"fb818e26-e74e-4aec-9354-58e0419addcb\",\"type\":\"LinearAxis\"}],\"left\":[{\"id\":\"3c0cf532-ee77-4527-84f5-d13ab68bfc9f\",\"type\":\"LinearAxis\"}],\"plot_height\":400,\"renderers\":[{\"id\":\"fb818e26-e74e-4aec-9354-58e0419addcb\",\"type\":\"LinearAxis\"},{\"id\":\"0fa06614-e88d-4f3b-83ee-470f7dce081d\",\"type\":\"Grid\"},{\"id\":\"3c0cf532-ee77-4527-84f5-d13ab68bfc9f\",\"type\":\"LinearAxis\"},{\"id\":\"5906fc8f-329b-4ca1-95b9-62d6b2f17b2e\",\"type\":\"Grid\"},{\"id\":\"2b6656fd-de0e-4657-98f7-b052a39ea73a\",\"type\":\"BoxAnnotation\"},{\"id\":\"dc978106-ce97-4935-87c5-c319ec599135\",\"type\":\"GlyphRenderer\"}],\"title\":{\"id\":\"19e90e32-6f8d-45a7-aa87-e0e55e9127f5\",\"type\":\"Title\"},\"toolbar\":{\"id\":\"35280148-b826-47cc-a4a2-2ef0dbedc550\",\"type\":\"Toolbar\"},\"x_range\":{\"id\":\"93189599-4deb-4bcd-9079-479fb202a98c\",\"type\":\"DataRange1d\"},\"x_scale\":{\"id\":\"e47dd12c-dba2-42da-babf-9c05e372ed9f\",\"type\":\"LinearScale\"},\"y_range\":{\"id\":\"345ea268-f79f-43e9-86ed-643d62a2295b\",\"type\":\"DataRange1d\"},\"y_scale\":{\"id\":\"96d03a6f-5cd1-4dc3-996e-e74e5edb71fd\",\"type\":\"LinearScale\"}},\"id\":\"68452235-496f-443f-8a35-bc4c6a74e572\",\"subtype\":\"Figure\",\"type\":\"Plot\"},{\"attributes\":{},\"id\":\"1f3d7a47-2abb-4be5-8529-aa534e07cf32\",\"type\":\"ResetTool\"},{\"attributes\":{},\"id\":\"e47dd12c-dba2-42da-babf-9c05e372ed9f\",\"type\":\"LinearScale\"},{\"attributes\":{},\"id\":\"96d03a6f-5cd1-4dc3-996e-e74e5edb71fd\",\"type\":\"LinearScale\"},{\"attributes\":{\"bottom_units\":\"screen\",\"fill_alpha\":{\"value\":0.5},\"fill_color\":{\"value\":\"lightgrey\"},\"left_units\":\"screen\",\"level\":\"overlay\",\"line_alpha\":{\"value\":1.0},\"line_color\":{\"value\":\"black\"},\"line_dash\":[4,4],\"line_width\":{\"value\":2},\"plot\":null,\"render_mode\":\"css\",\"right_units\":\"screen\",\"top_units\":\"screen\"},\"id\":\"2b6656fd-de0e-4657-98f7-b052a39ea73a\",\"type\":\"BoxAnnotation\"},{\"attributes\":{},\"id\":\"c08b024b-77bd-468f-9979-3a37c40d282b\",\"type\":\"HelpTool\"},{\"attributes\":{\"callback\":null,\"data\":{\"x\":[0,1,2,3,4],\"y\":[0.7800554037094116,0.35524696111679077,0.3378928601741791,0.3374694585800171,0.337243914604187]},\"selected\":{\"id\":\"de8ae6d7-c414-4f52-87d7-70b474b588ab\",\"type\":\"Selection\"},\"selection_policy\":{\"id\":\"1a207477-5c7b-4a5b-a8e3-35d343f16c6c\",\"type\":\"UnionRenderers\"}},\"id\":\"bb31d0eb-9d6a-4431-a357-c52ef48e93b2\",\"type\":\"ColumnDataSource\"},{\"attributes\":{},\"id\":\"1d05d17c-15db-4505-851c-417b8be120b8\",\"type\":\"SaveTool\"},{\"attributes\":{\"callback\":null,\"renderers\":\"auto\",\"tooltips\":[[\"err\",\"@y\"]]},\"id\":\"964d7928-1dfb-402c-ab87-4c6e4ebc50ea\",\"type\":\"HoverTool\"},{\"attributes\":{\"data_source\":{\"id\":\"bb31d0eb-9d6a-4431-a357-c52ef48e93b2\",\"type\":\"ColumnDataSource\"},\"glyph\":{\"id\":\"7125799a-17c6-4252-a13f-6ac406d0de24\",\"type\":\"Line\"},\"hover_glyph\":null,\"muted_glyph\":null,\"nonselection_glyph\":{\"id\":\"d3087cb8-3046-430c-8776-7fac27452167\",\"type\":\"Line\"},\"selection_glyph\":null,\"view\":{\"id\":\"9861fee7-da9e-42c4-b8b4-abe19f29e78c\",\"type\":\"CDSView\"}},\"id\":\"dc978106-ce97-4935-87c5-c319ec599135\",\"type\":\"GlyphRenderer\"},{\"attributes\":{\"line_alpha\":0.1,\"line_color\":\"#1f77b4\",\"line_width\":2,\"x\":{\"field\":\"x\"},\"y\":{\"field\":\"y\"}},\"id\":\"d3087cb8-3046-430c-8776-7fac27452167\",\"type\":\"Line\"},{\"attributes\":{},\"id\":\"5a9371ec-94c7-4c04-97d6-17e23606de99\",\"type\":\"BasicTicker\"},{\"attributes\":{\"formatter\":{\"id\":\"1e6da5a5-57d6-4329-a8b1-a83499d5b76e\",\"type\":\"BasicTickFormatter\"},\"plot\":{\"id\":\"68452235-496f-443f-8a35-bc4c6a74e572\",\"subtype\":\"Figure\",\"type\":\"Plot\"},\"ticker\":{\"id\":\"5a9371ec-94c7-4c04-97d6-17e23606de99\",\"type\":\"BasicTicker\"}},\"id\":\"fb818e26-e74e-4aec-9354-58e0419addcb\",\"type\":\"LinearAxis\"},{\"attributes\":{},\"id\":\"1a207477-5c7b-4a5b-a8e3-35d343f16c6c\",\"type\":\"UnionRenderers\"},{\"attributes\":{\"line_color\":\"green\",\"line_width\":2,\"x\":{\"field\":\"x\"},\"y\":{\"field\":\"y\"}},\"id\":\"7125799a-17c6-4252-a13f-6ac406d0de24\",\"type\":\"Line\"},{\"attributes\":{},\"id\":\"04da267d-13ed-412c-a0b8-a12d1dee26de\",\"type\":\"BasicTicker\"},{\"attributes\":{\"overlay\":{\"id\":\"2b6656fd-de0e-4657-98f7-b052a39ea73a\",\"type\":\"BoxAnnotation\"}},\"id\":\"b2b5506d-c34c-4a44-864e-b960294431b3\",\"type\":\"BoxZoomTool\"}],\"root_ids\":[\"68452235-496f-443f-8a35-bc4c6a74e572\"]},\"title\":\"Bokeh Application\",\"version\":\"0.12.16\"}};\n",
       "  var render_items = [{\"docid\":\"47a6b98b-fcb5-408a-ae1e-8c1d7b5937b1\",\"elementid\":\"cb9fc8a3-d3d1-42f8-a1d0-b392a72d5aad\",\"modelid\":\"68452235-496f-443f-8a35-bc4c6a74e572\"}];\n",
       "  root.Bokeh.embed.embed_items_notebook(docs_json, render_items);\n",
       "\n",
       "  }\n",
       "  if (root.Bokeh !== undefined) {\n",
       "    embed_document(root);\n",
       "  } else {\n",
       "    var attempts = 0;\n",
       "    var timer = setInterval(function(root) {\n",
       "      if (root.Bokeh !== undefined) {\n",
       "        embed_document(root);\n",
       "        clearInterval(timer);\n",
       "      }\n",
       "      attempts++;\n",
       "      if (attempts > 100) {\n",
       "        console.log(\"Bokeh: ERROR: Unable to run BokehJS code because BokehJS library is missing\")\n",
       "        clearInterval(timer);\n",
       "      }\n",
       "    }, 10, root)\n",
       "  }\n",
       "})(window);"
      ],
      "application/vnd.bokehjs_exec.v0+json": ""
     },
     "metadata": {
      "application/vnd.bokehjs_exec.v0+json": {
       "id": "68452235-496f-443f-8a35-bc4c6a74e572"
      }
     },
     "output_type": "display_data"
    }
   ],
   "source": [
    "plot_loss(hist_deep_autorec, 'custom_perc_loss')"
   ]
  },
  {
   "cell_type": "markdown",
   "metadata": {},
   "source": [
    "### Autorec missing ratings pred"
   ]
  },
  {
   "cell_type": "code",
   "execution_count": 132,
   "metadata": {},
   "outputs": [
    {
     "data": {
      "text/plain": [
       "(6000, 26672)"
      ]
     },
     "execution_count": 132,
     "metadata": {},
     "output_type": "execute_result"
    }
   ],
   "source": [
    "test_matrix.shape"
   ]
  },
  {
   "cell_type": "code",
   "execution_count": 96,
   "metadata": {},
   "outputs": [],
   "source": [
    "test_ratings_nonzero_u, test_ratings_nonzero_m  = test_matrix.nonzero()\n",
    "test_ratings_nonzero = list(zip(test_ratings_nonzero_u, test_ratings_nonzero_m))"
   ]
  },
  {
   "cell_type": "code",
   "execution_count": 97,
   "metadata": {},
   "outputs": [
    {
     "data": {
      "text/plain": [
       "[(0, 184), (0, 257), (0, 293)]"
      ]
     },
     "execution_count": 97,
     "metadata": {},
     "output_type": "execute_result"
    }
   ],
   "source": [
    "test_ratings_nonzero[:3]"
   ]
  },
  {
   "cell_type": "code",
   "execution_count": 98,
   "metadata": {},
   "outputs": [],
   "source": [
    "test_ratings_to_hide = shuffle(test_ratings_nonzero, random_state=666)[:2000]"
   ]
  },
  {
   "cell_type": "code",
   "execution_count": 99,
   "metadata": {},
   "outputs": [
    {
     "data": {
      "application/vnd.jupyter.widget-view+json": {
       "model_id": "8c1014254be5453a919b4a4b5e7dc12a",
       "version_major": 2,
       "version_minor": 0
      },
      "text/plain": [
       "HBox(children=(IntProgress(value=0, max=2000), HTML(value='')))"
      ]
     },
     "metadata": {},
     "output_type": "display_data"
    },
    {
     "name": "stdout",
     "output_type": "stream",
     "text": [
      "\n"
     ]
    }
   ],
   "source": [
    "test_matrix_partial = test_matrix.copy()\n",
    "expected = []\n",
    "for u, m in tqdm(test_ratings_to_hide):\n",
    "    val = test_matrix_partial[u,m]\n",
    "    expected.append(val)\n",
    "    test_matrix_partial[u,m] = 0.0\n",
    "    \n",
    "expected = np.array(expected)"
   ]
  },
  {
   "cell_type": "code",
   "execution_count": 105,
   "metadata": {},
   "outputs": [],
   "source": [
    "yhat_partial = model_autorec_deep.predict(test_matrix_partial).clip(min=0.0, max=5.0)"
   ]
  },
  {
   "cell_type": "code",
   "execution_count": 106,
   "metadata": {},
   "outputs": [
    {
     "data": {
      "text/plain": [
       "9.66246184468125"
      ]
     },
     "execution_count": 106,
     "metadata": {},
     "output_type": "execute_result"
    }
   ],
   "source": [
    "mean_squared_error(test_matrix_partial.todense(), yhat_partial)"
   ]
  },
  {
   "cell_type": "code",
   "execution_count": 107,
   "metadata": {},
   "outputs": [
    {
     "data": {
      "application/vnd.jupyter.widget-view+json": {
       "model_id": "aff59e5475464fa0991fa70f73ca111f",
       "version_major": 2,
       "version_minor": 0
      },
      "text/plain": [
       "HBox(children=(IntProgress(value=0, max=2000), HTML(value='')))"
      ]
     },
     "metadata": {},
     "output_type": "display_data"
    },
    {
     "name": "stdout",
     "output_type": "stream",
     "text": [
      "\n"
     ]
    }
   ],
   "source": [
    "actual = []\n",
    "for u, m in tqdm(test_ratings_to_hide):\n",
    "    actual.append(yhat_partial[u, m])\n",
    "actual = np.array(actual)"
   ]
  },
  {
   "cell_type": "markdown",
   "metadata": {},
   "source": [
    "Final prediction error for **selected (hidden) ratings** from test matrix."
   ]
  },
  {
   "cell_type": "code",
   "execution_count": 108,
   "metadata": {},
   "outputs": [
    {
     "data": {
      "text/plain": [
       "0.3124175567379074"
      ]
     },
     "execution_count": 108,
     "metadata": {},
     "output_type": "execute_result"
    }
   ],
   "source": [
    "np.mean(np.abs(  (expected-actual)/expected  ))"
   ]
  },
  {
   "cell_type": "markdown",
   "metadata": {},
   "source": [
    "## Latent factors"
   ]
  },
  {
   "cell_type": "markdown",
   "metadata": {},
   "source": [
    "Below we build a latent factors model, which will try to accomplish the same task - matrix reconstruction and rating prediction, but using different model.\n",
    "\n",
    "We create a huge embedding matrices\n",
    "* $ U x F\\ \\text{ matrix of users-to-latent factors } $\n",
    "* $ M x F\\ \\text{ matrix of movies-to-latent factors}  $\n",
    "\n",
    "And then minimize reconstruction error by multiplying those weights using dot product."
   ]
  },
  {
   "cell_type": "code",
   "execution_count": 76,
   "metadata": {},
   "outputs": [],
   "source": [
    "train_top_users = df_top_users.loc[df_top_users.uidx.isin(train_users), :]\n",
    "val_top_users = df_top_users.loc[df_top_users.uidx.isin(validation_users), :]\n",
    "test_top_users = df_top_users.loc[df_top_users.uidx.isin(test_users), :]"
   ]
  },
  {
   "cell_type": "code",
   "execution_count": 78,
   "metadata": {},
   "outputs": [],
   "source": [
    "M = df_top_users.midx.nunique()"
   ]
  },
  {
   "cell_type": "code",
   "execution_count": 79,
   "metadata": {},
   "outputs": [],
   "source": [
    "n_latent_factors = 15"
   ]
  },
  {
   "cell_type": "code",
   "execution_count": 80,
   "metadata": {
    "ExecuteTime": {
     "end_time": "2019-06-10T15:39:09.302052Z",
     "start_time": "2019-06-10T15:39:09.204090Z"
    }
   },
   "outputs": [],
   "source": [
    "u = tf.keras.layers.Input(shape=(1,))\n",
    "m = tf.keras.layers.Input(shape=(1,))\n",
    "u_embedding = tf.keras.layers.Embedding(df_top_users.uidx.nunique(), n_latent_factors, embeddings_regularizer=tf.keras.regularizers.l2(reg))(u) # (N, 1, K)\n",
    "m_embedding = tf.keras.layers.Embedding(M, n_latent_factors, embeddings_regularizer=tf.keras.regularizers.l2(reg))(m) # (N, 1, K)\n",
    "\n",
    "u_bias = tf.keras.layers.Embedding(df_top_users.uidx.nunique(), 1, embeddings_regularizer=tf.keras.regularizers.l2(reg))(u) # (N, 1, 1)\n",
    "m_bias = tf.keras.layers.Embedding(M, 1, embeddings_regularizer=tf.keras.regularizers.l2(reg))(m) # (N, 1, 1)\n",
    "x = tf.keras.layers.Dot(axes=2)([u_embedding, m_embedding]) # (N, 1, 1)\n",
    "x = tf.keras.layers.Add()([x, u_bias, m_bias])\n",
    "x = tf.keras.layers.Flatten()(x) # (N, 1)\n",
    "\n",
    "model_mf = tf.keras.Model(inputs=[u, m], outputs=x)"
   ]
  },
  {
   "cell_type": "code",
   "execution_count": 81,
   "metadata": {},
   "outputs": [],
   "source": [
    "model_mf.compile(\n",
    "  loss='mse',\n",
    "  optimizer=tf.train.RMSPropOptimizer(learning_rate=0.08),\n",
    "  metrics=['mse'],\n",
    ")"
   ]
  },
  {
   "cell_type": "code",
   "execution_count": null,
   "metadata": {},
   "outputs": [
    {
     "name": "stdout",
     "output_type": "stream",
     "text": [
      "Train on 12054920 samples, validate on 3015043 samples\n",
      "WARNING:tensorflow:From /data/anaconda/envs/py35/lib/python3.5/site-packages/tensorflow/python/ops/math_ops.py:3066: to_int32 (from tensorflow.python.ops.math_ops) is deprecated and will be removed in a future version.\n",
      "Instructions for updating:\n",
      "Use tf.cast instead.\n"
     ]
    },
    {
     "name": "stderr",
     "output_type": "stream",
     "text": [
      "WARNING:tensorflow:From /data/anaconda/envs/py35/lib/python3.5/site-packages/tensorflow/python/ops/math_ops.py:3066: to_int32 (from tensorflow.python.ops.math_ops) is deprecated and will be removed in a future version.\n",
      "Instructions for updating:\n",
      "Use tf.cast instead.\n"
     ]
    },
    {
     "name": "stdout",
     "output_type": "stream",
     "text": [
      "Epoch 1/5\n",
      "   36096/12054920 [..............................] - ETA: 39:12 - loss: 9.0017 - mean_squared_error: 8.6692"
     ]
    }
   ],
   "source": [
    "r = model_mf.fit(\n",
    "  x=[train_top_users.uidx, train_top_users.midx],\n",
    "  y=train_top_users.rating,\n",
    "  epochs=5,\n",
    "  batch_size=128,\n",
    "  validation_data=(\n",
    "    [val_top_users.uidx, val_top_users.midx],\n",
    "    val_top_users.rating\n",
    "  )\n",
    ")"
   ]
  },
  {
   "cell_type": "code",
   "execution_count": 84,
   "metadata": {},
   "outputs": [
    {
     "name": "stdout",
     "output_type": "stream",
     "text": [
      "done\n"
     ]
    }
   ],
   "source": [
    "print(\"done\")"
   ]
  },
  {
   "cell_type": "code",
   "execution_count": null,
   "metadata": {},
   "outputs": [],
   "source": [
    "iplot([Scatter({'y': r.history['loss']})])"
   ]
  },
  {
   "cell_type": "code",
   "execution_count": 98,
   "metadata": {},
   "outputs": [],
   "source": [
    "yhat_mf = model_mf.predict([test_users_df.uidx, test_users_df.midx])"
   ]
  },
  {
   "cell_type": "code",
   "execution_count": 99,
   "metadata": {},
   "outputs": [],
   "source": [
    "yhat_mf = yhat_mf.clip(min=0, max=5.0)"
   ]
  },
  {
   "cell_type": "code",
   "execution_count": 100,
   "metadata": {},
   "outputs": [
    {
     "data": {
      "application/vnd.jupyter.widget-view+json": {
       "model_id": "b9d1e26836cf484b86f35df7e8459222",
       "version_major": 2,
       "version_minor": 0
      },
      "text/plain": [
       "HBox(children=(IntProgress(value=0, max=1644837), HTML(value='')))"
      ]
     },
     "metadata": {},
     "output_type": "display_data"
    },
    {
     "name": "stdout",
     "output_type": "stream",
     "text": [
      "\n"
     ]
    }
   ],
   "source": [
    "actual_mf = []\n",
    "for idx in tqdm(range(test_users_df.shape[0])):\n",
    "    row = test_users_df.iloc[idx,:]\n",
    "    actual_mf.append(yhat_mf[int(row['uidx'])])\n",
    "actual_mf = np.array(actual_mf)"
   ]
  },
  {
   "cell_type": "code",
   "execution_count": 101,
   "metadata": {},
   "outputs": [
    {
     "data": {
      "text/plain": [
       "0.6129794534856234"
      ]
     },
     "execution_count": 101,
     "metadata": {},
     "output_type": "execute_result"
    }
   ],
   "source": [
    "np.mean(np.abs(  (test_users_df.rating - actual_mf[:, 0])/test_users_df.rating  ))"
   ]
  },
  {
   "cell_type": "code",
   "execution_count": null,
   "metadata": {},
   "outputs": [],
   "source": []
  }
 ],
 "metadata": {
  "kernelspec": {
   "display_name": "Python 3",
   "language": "python",
   "name": "python3"
  },
  "language_info": {
   "codemirror_mode": {
    "name": "ipython",
    "version": 3
   },
   "file_extension": ".py",
   "mimetype": "text/x-python",
   "name": "python",
   "nbconvert_exporter": "python",
   "pygments_lexer": "ipython3",
   "version": "3.6.4"
  },
  "toc": {
   "nav_menu": {},
   "number_sections": true,
   "sideBar": true,
   "skip_h1_title": false,
   "title_cell": "Table of Contents",
   "title_sidebar": "Contents",
   "toc_cell": false,
   "toc_position": {},
   "toc_section_display": true,
   "toc_window_display": true
  },
  "varInspector": {
   "cols": {
    "lenName": 16,
    "lenType": 16,
    "lenVar": 40
   },
   "kernels_config": {
    "python": {
     "delete_cmd_postfix": "",
     "delete_cmd_prefix": "del ",
     "library": "var_list.py",
     "varRefreshCmd": "print(var_dic_list())"
    },
    "r": {
     "delete_cmd_postfix": ") ",
     "delete_cmd_prefix": "rm(",
     "library": "var_list.r",
     "varRefreshCmd": "cat(var_dic_list()) "
    }
   },
   "types_to_exclude": [
    "module",
    "function",
    "builtin_function_or_method",
    "instance",
    "_Feature"
   ],
   "window_display": false
  }
 },
 "nbformat": 4,
 "nbformat_minor": 2
}
